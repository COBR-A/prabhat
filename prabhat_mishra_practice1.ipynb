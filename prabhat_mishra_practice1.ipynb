{
  "nbformat": 4,
  "nbformat_minor": 0,
  "metadata": {
    "colab": {
      "private_outputs": true,
      "provenance": [],
      "collapsed_sections": [
        "_2vbDiF_fBYf",
        "BhmjFGlxfsED",
        "q33ZfRGpmKYh",
        "6rMRW2G-fvmZ",
        "H-CKGy4FmMfq",
        "X31D6MAZtxJ4",
        "zTVK1c-Jg1Kk",
        "t5mfUdxxW2CI",
        "sJAouOlatwuX",
        "cOhoMHbWs6mb",
        "6vQxj3wEhXOW",
        "WOXIZWYRaTxk",
        "161MltVl4lZt",
        "O6_5J_grXLKp"
      ],
      "authorship_tag": "ABX9TyOygrnrmwQFFJ2nxF3jowQb",
      "include_colab_link": true
    },
    "kernelspec": {
      "name": "python3",
      "display_name": "Python 3"
    }
  },
  "cells": [
    {
      "cell_type": "markdown",
      "metadata": {
        "id": "view-in-github",
        "colab_type": "text"
      },
      "source": [
        "<a href=\"https://colab.research.google.com/github/COBR-A/prabhat/blob/main/prabhat_mishra_practice1.ipynb\" target=\"_parent\"><img src=\"https://colab.research.google.com/assets/colab-badge.svg\" alt=\"Open In Colab\"/></a>"
      ]
    },
    {
      "cell_type": "markdown",
      "metadata": {
        "id": "_2vbDiF_fBYf"
      },
      "source": [
        "# program 1\n",
        " **program to input name,marks in three subject and find the total marks and percentage**"
      ]
    },
    {
      "cell_type": "code",
      "metadata": {
        "id": "TnPAT6yufAvV"
      },
      "source": [
        "# practicle 1\n",
        "name=input(\"enter your name\\t\")\n",
        "a=int(input(\"enetr marks\\t\"))\n",
        "b=int(input(\"enetr marks\\t\"))\n",
        "c=int(input(\"enetr marks\\t\"))\n",
        "d=a+b+c\n",
        "e=d/3\n",
        "print()\n",
        "print(\"science\\t\\t\",a)\n",
        "print(\"hindi\\t\\t\",b)\n",
        "print(\"maths\\t\\t\",c)\n",
        "print()\n",
        "print()\n",
        "print(\"you scored\\t\\t\",d)\n",
        "print(\"your precentage\\t\\t\",e,\"%\")"
      ],
      "execution_count": null,
      "outputs": []
    },
    {
      "cell_type": "markdown",
      "metadata": {
        "id": "BhmjFGlxfsED"
      },
      "source": [
        "#program to calculate area of shapes like square ,rectangle ,and circle"
      ]
    },
    {
      "cell_type": "code",
      "metadata": {
        "id": "5VkwdskveSr_"
      },
      "source": [
        "\n",
        "print (\"\"\"\n",
        "to find area of rectangle prees 1\n",
        "to find area of square prees 2\n",
        "to find area of triangle prees 3\n",
        "to find area of circle prees 4\n",
        "\n",
        "\"\"\")\n",
        "b=int(input(\"enter your option\\t\\t\"))\n",
        "if b==1:\n",
        "    length=int(input(\"enter length\\t\\t\"))\n",
        "    breath=int(input(\"enter breath\\t\\t\"))\n",
        "    d=leangth*breath\n",
        "    print(\"your area is =\\t\",d)\n",
        "elif b==2:\n",
        "    side=int(input(\"enter side\\t\\t \"))\n",
        "    d=side*side\n",
        "    print(\"your area is =\\t\",d)\n",
        "elif b==3:\n",
        "    l=int(input(\"enter altitude\"))\n",
        "    b=int(input(\"enter base \"))\n",
        "    d=1/2*l*b\n",
        "    print(\"your area is =\",d)\n",
        "elif b==4:\n",
        "    length=int(input(\"enter raduis \"))\n",
        "    d=22/7*length*length\n",
        "    print(\"your area is = \",d)\n",
        "else:\n",
        "    print (\"sory\")\n"
      ],
      "execution_count": null,
      "outputs": []
    },
    {
      "cell_type": "markdown",
      "metadata": {
        "id": "Qd4ta5HWftwA"
      },
      "source": [
        "## program 3\n",
        "**program to find out compund intrest and simple intreset**"
      ]
    },
    {
      "cell_type": "code",
      "metadata": {
        "id": "mNwOZ6gsfugP"
      },
      "source": [
        "#\n",
        "p=float(input(\"enter principle\\t\\t\"))\n",
        "r=float(input(\"enter rate\\t\\t\"))\n",
        "t=float(input(\"enter time\\t\\t\"))\n",
        "c=p*(1+r/100)**t\n",
        "c_i=c-p\n",
        "si=p*r*t\n",
        "s_i=si/100\n",
        "print()\n",
        "print()\n",
        "print(\"compund intrest\\t\\t\",c_i)\n",
        "print()\n",
        "print(\"simple intrest\\t\\t\",s_i)\n"
      ],
      "execution_count": null,
      "outputs": []
    },
    {
      "cell_type": "markdown",
      "metadata": {
        "id": "q33ZfRGpmKYh"
      },
      "source": [
        "# program 4\n",
        "**program to convert fahrenheit to celcius**"
      ]
    },
    {
      "cell_type": "code",
      "metadata": {
        "id": "p0gDiX8AmLUR"
      },
      "source": [
        "f=int(input(\"enter temp.\"))\n",
        "print()\n",
        "t=f-32\n",
        "h=t*5/9\n",
        "print()\n",
        "print(\"tempeture is\", h ,\"c\")"
      ],
      "execution_count": null,
      "outputs": []
    },
    {
      "cell_type": "markdown",
      "metadata": {
        "id": "6rMRW2G-fvmZ"
      },
      "source": [
        "# program 5\n",
        "**program to convert feet into hight**"
      ]
    },
    {
      "cell_type": "code",
      "metadata": {
        "id": "3AnhTuHjnNsN"
      },
      "source": [
        "f=float(input(\"enter height in feet \"))\n",
        "print()\n",
        "print(\"height in inches is\\t\\t\",f*12)\n"
      ],
      "execution_count": null,
      "outputs": []
    },
    {
      "cell_type": "markdown",
      "metadata": {
        "id": "H-CKGy4FmMfq"
      },
      "source": [
        "# program 6\n",
        "**pragram a code to check whether no is even or odd**"
      ]
    },
    {
      "cell_type": "code",
      "metadata": {
        "id": "LseUp8Hdtv55"
      },
      "source": [
        "num=int(input(\"enter number\\t\"))\n",
        "print()\n",
        "print()\n",
        "a=num%2\n",
        "if a==0:\n",
        "  print(\"no is even\")\n",
        "else:\n",
        "  print(\"no is odd\")"
      ],
      "execution_count": null,
      "outputs": []
    },
    {
      "cell_type": "markdown",
      "metadata": {
        "id": "X31D6MAZtxJ4"
      },
      "source": [
        "# program  7\n",
        "**pragram a code to check whether no is postive or negative**"
      ]
    },
    {
      "cell_type": "code",
      "metadata": {
        "id": "mykSEobNtyHy"
      },
      "source": [
        "num=int(input(\"enter number\\t\"))\n",
        "print()\n",
        "print()\n",
        "if a>0:\n",
        "  print(\"no is postive\")\n",
        "elif a==0:\n",
        "  print(\"no is zero\")\n",
        "else:\n",
        "  print(\"no is negative\")"
      ],
      "execution_count": null,
      "outputs": []
    },
    {
      "cell_type": "code",
      "metadata": {
        "id": "ftoaXLhAfrVi"
      },
      "source": [
        "#Q7\n",
        "x=3\n",
        "y=20\n",
        "z=y//3\n",
        "w=y%3\n",
        "print(z, w, sep=\"####\")\n"
      ],
      "execution_count": null,
      "outputs": []
    },
    {
      "cell_type": "code",
      "metadata": {
        "id": "lZe7uQGYgPwZ"
      },
      "source": [
        "#q8\n",
        "x=10\n",
        "y=5\n",
        "z=3\n",
        "w=x+y*z\n",
        "print(w)"
      ],
      "execution_count": null,
      "outputs": []
    },
    {
      "cell_type": "code",
      "metadata": {
        "id": "I5SM7a7xtP7H"
      },
      "source": [
        "x=2\n",
        "y=1\n",
        "z=3\n",
        "w=x**y**z\n",
        "print(w)"
      ],
      "execution_count": null,
      "outputs": []
    },
    {
      "cell_type": "code",
      "metadata": {
        "id": "xFNTyJMmgVDe"
      },
      "source": [
        "s1= \"Happy\"\n",
        "s2= \"Birthday\"\n",
        "x=2\n",
        "s3= s1*3 + s2\n",
        "print(s3)"
      ],
      "execution_count": null,
      "outputs": []
    },
    {
      "cell_type": "markdown",
      "metadata": {
        "id": "zTVK1c-Jg1Kk"
      },
      "source": [
        "#  LIST AND TUPLES"
      ]
    },
    {
      "cell_type": "code",
      "metadata": {
        "id": "z8cupCqeg58e"
      },
      "source": [
        "lst1=[10,12,37,56]\n",
        "lst2=[22,39,46,81,74,39]\n",
        "print(len(lst1))"
      ],
      "execution_count": null,
      "outputs": []
    },
    {
      "cell_type": "code",
      "metadata": {
        "id": "FK4tIUHmg9RG"
      },
      "source": [
        "lst1=[10,12,37,56]\n",
        "lst1.append([40,50])\n",
        "print(lst1)"
      ],
      "execution_count": null,
      "outputs": []
    },
    {
      "cell_type": "code",
      "metadata": {
        "id": "qcaSvfT3g9a9"
      },
      "source": [
        "lst1=[10,12,37,56]\n",
        "lst2=[22,39,46,81,74,39]\n",
        "lst1.append(lst2)\n",
        "print(len(lst1))\n",
        "print(lst1)"
      ],
      "execution_count": null,
      "outputs": []
    },
    {
      "cell_type": "code",
      "metadata": {
        "id": "K6LOoZRcg9eK"
      },
      "source": [
        "lst1=[10,12,37,56]\n",
        "lst2=[22,39,46,81,74,39]\n",
        "lst1.extend([40,50])\n",
        "print(lst1)"
      ],
      "execution_count": null,
      "outputs": []
    },
    {
      "cell_type": "code",
      "metadata": {
        "id": "RGRLJa3Lg9jd"
      },
      "source": [
        "lst1=[10,12,37,56]\n",
        "lst2=[22,39,46,81,74,39]\n",
        "lst1.extend(lst2)\n",
        "print(len(lst1))\n",
        "print(lst1)"
      ],
      "execution_count": null,
      "outputs": []
    },
    {
      "cell_type": "code",
      "metadata": {
        "id": "W07Hkg-lhMcy"
      },
      "source": [
        "lst1=[10,12,37,56]\n",
        "lst2=[22,39,46,81,74,39]\n",
        "lst3=lst1+lst2\n",
        "print(lst3)"
      ],
      "execution_count": null,
      "outputs": []
    },
    {
      "cell_type": "code",
      "metadata": {
        "id": "uzgwUF9nhMmW"
      },
      "source": [
        "lst1=[10,12,37,56]\n",
        "lst2=[22,39,46,81,74,39]\n",
        "lst4=lst1*2\n",
        "print(lst4)"
      ],
      "execution_count": null,
      "outputs": []
    },
    {
      "cell_type": "code",
      "metadata": {
        "id": "nSGEEY4MhMzx"
      },
      "source": [
        "lst1=[10,12,37,56]\n",
        "lst2=[22,39,46,81,74,39]\n",
        "lst3=lst1+2\n",
        "print(lst3)"
      ],
      "execution_count": null,
      "outputs": []
    },
    {
      "cell_type": "code",
      "metadata": {
        "id": "8dQt2BRxhM8l"
      },
      "source": [
        "lst1=[10,12,37,56]\n",
        "lst2=[22,39,46,81,74,39]\n",
        "lst3=lst1+[2]\n",
        "print(lst3)"
      ],
      "execution_count": null,
      "outputs": []
    },
    {
      "cell_type": "code",
      "metadata": {
        "id": "o-aEwpJ9hNGN"
      },
      "source": [
        "lst1=[10,12,37,56]\n",
        "lst2=[22,39,46,81,74,39]\n",
        "lst1.sort(reverse=True)\n",
        "print(lst1)"
      ],
      "execution_count": null,
      "outputs": []
    },
    {
      "cell_type": "code",
      "metadata": {
        "id": "TiQ5uKRZhNO_"
      },
      "source": [
        "lst1=[10,12,37,56]\n",
        "lst2=[22,39,46,81,74,39]\n",
        "max(lst1)"
      ],
      "execution_count": null,
      "outputs": []
    },
    {
      "cell_type": "code",
      "metadata": {
        "id": "N6Nq-HDzifqY"
      },
      "source": [
        "lst1=[10,12,37,56]\n",
        "lst2=[22,39,46,81,74,39]\n",
        "\n",
        "#min(lst2)"
      ],
      "execution_count": null,
      "outputs": []
    },
    {
      "cell_type": "code",
      "metadata": {
        "id": "L6mNzbwwigCg"
      },
      "source": [
        "lst1=[10,12,37,56]\n",
        "lst2=[22,39,46,81,74,39]\n",
        "lst1.pop()\n",
        "print(lst1)"
      ],
      "execution_count": null,
      "outputs": []
    },
    {
      "cell_type": "code",
      "metadata": {
        "id": "9tLzoTPHigSd"
      },
      "source": [
        "lst1=[10,12,37,56]\n",
        "lst2=[22,39,46,81,74,39]\n",
        "lst1.pop(2)\n",
        "print(lst1)"
      ],
      "execution_count": null,
      "outputs": []
    },
    {
      "cell_type": "code",
      "metadata": {
        "id": "TAie1m0oigiI"
      },
      "source": [
        "lst1=[10,12,37,56]\n",
        "lst2=[22,39,46,81,74,39]\n",
        "lst2.remove(90)\n",
        "print(lst2)"
      ],
      "execution_count": null,
      "outputs": []
    },
    {
      "cell_type": "code",
      "metadata": {
        "id": "108yv-Ywig8y"
      },
      "source": [
        "lst1=[10,12,37,56]\n",
        "lst2=[22,39,46,81,74,39]\n",
        "lst2.pop(100)"
      ],
      "execution_count": null,
      "outputs": []
    },
    {
      "cell_type": "code",
      "metadata": {
        "id": "KjpaGo2NihZx"
      },
      "source": [
        "lst1=[10,12,37,56]\n",
        "lst2=[22,39,46,81,74,39]\n",
        "del lst2[2:4]\n",
        "print(lst2)"
      ],
      "execution_count": null,
      "outputs": []
    },
    {
      "cell_type": "code",
      "metadata": {
        "id": "r3yfgE4jihlE"
      },
      "source": [
        "lst1=[10,12,37,56]\n",
        "lst2=[22,39,46,81,74,39]\n",
        "del lst2[1]\n",
        "print(lst2)"
      ],
      "execution_count": null,
      "outputs": []
    },
    {
      "cell_type": "code",
      "metadata": {
        "id": "sX7iEmANhNZK"
      },
      "source": [
        "lst1=[10,12,37,56]\n",
        "lst2=[22,39,46,81,74,39]\n",
        "lst1.pop(6)"
      ],
      "execution_count": null,
      "outputs": []
    },
    {
      "cell_type": "code",
      "metadata": {
        "id": "82_iqG2jjFhS"
      },
      "source": [
        "lst2=[22,39,46,81,74,39]\n",
        "print(lst2.count(39))"
      ],
      "execution_count": null,
      "outputs": []
    },
    {
      "cell_type": "markdown",
      "metadata": {
        "id": "t5mfUdxxW2CI"
      },
      "source": [
        "# Flow of Control and Conditions"
      ]
    },
    {
      "cell_type": "code",
      "metadata": {
        "id": "2KhyOFiZjfkT"
      },
      "source": [
        "#Q1: Output?\n",
        "x = [ 'a', 'b', 'c', 'd']\n",
        "for i in x:\n",
        "  print(i,end=\"...\")\n"
      ],
      "execution_count": null,
      "outputs": []
    },
    {
      "cell_type": "code",
      "metadata": {
        "id": "IcxK5BCUjo7K"
      },
      "source": [
        "x =[11,22,33,44,55]\n",
        "\n",
        "for i in range(5):  #range(0,5) #range(10,50,3)\n",
        "  print (x[i])\n"
      ],
      "execution_count": null,
      "outputs": []
    },
    {
      "cell_type": "code",
      "metadata": {
        "id": "cEbAt3dvjyQR"
      },
      "source": [
        "sum=0\n",
        "for i in range(10):\n",
        "\tsum=sum+i\n",
        "print(sum)\n"
      ],
      "execution_count": null,
      "outputs": []
    },
    {
      "cell_type": "code",
      "metadata": {
        "id": "RpOw7RTQj6hX"
      },
      "source": [
        "prod=1\n",
        "for x in range(5,21,5):\n",
        "\tprod=prod*x\n",
        "print(prod)\n"
      ],
      "execution_count": null,
      "outputs": []
    },
    {
      "cell_type": "code",
      "metadata": {
        "id": "rnTMllWsj_LG"
      },
      "source": [
        "sum=0\n",
        "for x in range (10,0):\n",
        "\tsum=sum+x\n",
        "print(sum)\n"
      ],
      "execution_count": null,
      "outputs": []
    },
    {
      "cell_type": "code",
      "metadata": {
        "id": "kjQDGLPhkB_W"
      },
      "source": [
        "x=15\n",
        "If x>15:\n",
        "\tprint(\"Welcome!\")\n",
        "print(\"To Python\")\n"
      ],
      "execution_count": null,
      "outputs": []
    },
    {
      "cell_type": "code",
      "metadata": {
        "id": "sbAzC1wkkF1X"
      },
      "source": [
        "y=20\n",
        "if y>=30:\n",
        "\tprint(\"You are Welcome\")\n",
        "else:\n",
        "\tprint(\"Not Welcome\")\n",
        "print(\"to Python\")\n"
      ],
      "execution_count": null,
      "outputs": []
    },
    {
      "cell_type": "code",
      "metadata": {
        "id": "IAzvrK_VkJDL"
      },
      "source": [
        "x=0\n",
        "if  x>0:\n",
        "\tprint(\"positive number\")\n",
        "elif x<=0:\n",
        "\tif  x==0:\n",
        "\t\tprint( \"Number is Zero\")\n",
        "\telse:\n",
        "\t\tprint(\"Negative Number\")"
      ],
      "execution_count": null,
      "outputs": []
    },
    {
      "cell_type": "code",
      "metadata": {
        "id": "bVFbesV1kljJ"
      },
      "source": [
        "username= \"TARAN2020\"\n",
        "password= \"T123#bbps\"\n",
        "if  username==\"TARAN2020\" and password=\"T123@bbps\":\n",
        "\tprint( \"Welcome to Python\")\n",
        "else:\n",
        "\tprint(\"Invalid username and password\")\n"
      ],
      "execution_count": null,
      "outputs": []
    },
    {
      "cell_type": "code",
      "metadata": {
        "id": "M7Xnfnupk3nY"
      },
      "source": [
        "#Find out error in the code given below:\n",
        "x= input(\"enter the marks: \")\n",
        "if x<=100;\n",
        "\tprint(\"Please enter marks less than 100\")\n",
        "Else\n",
        "\tprint(\" Marks scored are:\" , x)\n"
      ],
      "execution_count": null,
      "outputs": []
    },
    {
      "cell_type": "markdown",
      "metadata": {
        "id": "sJAouOlatwuX"
      },
      "source": [
        "#Program to perform basic operations (+-*/)"
      ]
    },
    {
      "cell_type": "code",
      "metadata": {
        "id": "e0tkYkzZfwOr"
      },
      "source": [
        "print(\"\"\"\n",
        "\n",
        "thanks for coming\n",
        "now calculater is your\n",
        "thanks\n",
        "\"\"\")\n",
        "print()\n",
        "print()\n",
        "print(\"\"\"\n",
        "to multiply enter *\n",
        "to devide enter /\n",
        "to divide and to find remainder enter %\n",
        "to aadd +\n",
        "to subtracting -\n",
        "to power enter **\n",
        "to calculate //\n",
        "\"\"\")\n",
        "print()\n",
        "b=int(input(\"enter number\"))\n",
        "c=input(\"enter option\")\n",
        "d=int(input(\"enter number\"))\n",
        "print()\n",
        "print()\n",
        "print()\n",
        "if c==\"*\":\n",
        "      print(b*d)\n",
        "elif c==\"/\":\n",
        "      print(b/d)\n",
        "elif c==\"%\":\n",
        "      print(b%d)\n",
        "elif c==\"+\":\n",
        "      print(b+d)\n",
        "elif c==\"-\":\n",
        "      print(b-d)\n",
        "elif c==\"**\":\n",
        "      print(b**d)\n",
        "elif c==\"//\":\n",
        "      print(b/d)\n",
        "else :\n",
        "     print(\"sorry option is wrong\")\n"
      ],
      "execution_count": null,
      "outputs": []
    },
    {
      "cell_type": "markdown",
      "metadata": {
        "id": "cOhoMHbWs6mb"
      },
      "source": [
        "#program 2 (menu given program)"
      ]
    },
    {
      "cell_type": "code",
      "metadata": {
        "id": "vi3SZaJArjtr"
      },
      "source": [
        "a=1\n",
        "while a==1 or a==1 :\n",
        "  print(\"\"\"\n",
        "  press 1 to add no in list\n",
        "  press 2 to find maximum marks\n",
        "  press 3 to find minimum marks\n",
        "  press 4 to find total number of element in list\n",
        "  press 5 to arange in assending oder\n",
        "  press 6 to count the no\n",
        "  \"\"\")\n",
        "  c=int(input(\"enter number \"))\n",
        "  list1=[55,65,75,100,85,90,89,76,56,100,47,75,100,100,89,95,99,100,59,79]\n",
        "  if c==1:\n",
        "    add_element=int(input(\" enter number \"))\n",
        "    list1.append([add_element])\n",
        "    print(list1)\n",
        "  elif c==2:\n",
        "    print(\"maximum no in list :-\")\n",
        "    print(max(list1))\n",
        "  elif c==3:\n",
        "    print(\"minimum no in list :-\")\n",
        "    print(min(list1))\n",
        "  elif c==4:\n",
        "    print(\"total no. in list :-\")\n",
        "    print(len(list1))\n",
        "  elif c==5:\n",
        "    print(\"accending odder of list :-\")\n",
        "    g=list1.shot(True)\n",
        "    print(g)\n",
        "  elif c==6:\n",
        "    print(\"  number repeted in  list :-\")\n",
        "    d=list1.count(100)\n",
        "    print(d)\n",
        "  else :\n",
        "    print(\"sorry\")\n"
      ],
      "execution_count": null,
      "outputs": []
    },
    {
      "cell_type": "markdown",
      "metadata": {
        "id": "mAZI1adwgp8F"
      },
      "source": [
        "2"
      ]
    },
    {
      "cell_type": "code",
      "metadata": {
        "id": "StH0eIlRanzJ"
      },
      "source": [
        "name=input(\"enter your name\\t\\t\")\n",
        "a=1\n",
        "while a==1 or a==1:\n",
        "  print(\" welcome \",name)\n",
        "  print(\" press 1 for adding element \")\n",
        "  print(\" press 2 for deleting  element \")\n",
        "  print(\" press 3 for aranging in decending odere  element \")\n",
        "  print(\" press 4  to find value in list \")\n",
        "  print(\" press 5 to find  max and minimum  element \")\n",
        "  f=int(input(\"enter number\"))\n",
        "  list_1=[12,45,67,89,75,90,23,43,67,89,90,67,87,1,23,99,100,56.78,20]\n",
        "  if f==1:\n",
        "    print(list_1)\n",
        "    b=int(input(\"enter nuber  to add in above list\"))\n",
        "    list_1.append(b)\n",
        "    print(list_1)\n",
        "    print()\n",
        "  elif f==2:\n",
        "    print(\"list before removing\")\n",
        "    print(list_1)\n",
        "    c=int(input(\"enter number from above list \"))\n",
        "    list_1.remove(c)\n",
        "    print(\"list after removing\")\n",
        "    print(list_1)\n",
        "  elif f==3:\n",
        "    print(\"list before sorting \")\n",
        "    print(list_1)\n",
        "    print(\"list before sorting  in ascending \")\n",
        "    list_1.sort(reverse=True)\n",
        "    print(list_1)\n",
        "  elif f==4:\n",
        "    val=int(input(\"enter number\"))\n",
        "\n",
        "    for i in list_1:\n",
        "\n",
        "        if i==val:\n",
        "          res=list_1.index(val)\n",
        "          break\n",
        "        else:\n",
        "          s=-1\n",
        "    if s==-1:\n",
        "        print(s)\n",
        "    else:\n",
        "        print(s)\n",
        "  elif f==5:\n",
        "    print(max(list_1))\n",
        "    print(min(list_1))\n",
        "  else :\n",
        "    print(\"sory\",name,\"check the value\")"
      ],
      "execution_count": null,
      "outputs": []
    },
    {
      "cell_type": "markdown",
      "metadata": {
        "id": "6vQxj3wEhXOW"
      },
      "source": [
        "#program other"
      ]
    },
    {
      "cell_type": "code",
      "metadata": {
        "id": "oOekNHRSE51u"
      },
      "source": [
        "a=int(input(\" enter 1 to print  oddn o. or 2 print even no. \\n \"))\n",
        "d=int(input(\"number til you want to print \\n     \"))\n",
        "if a==1 :\n",
        "  for i in range (1,d,2): # to find odd number between 1 to your choice\n",
        "    print(i)\n",
        "elif a==2:\n",
        "  for j in range (0,d,2):# to find even number between 0 to your choice\n",
        "    print(j)\n",
        "else :\n",
        "  print(\"sorry  \")\n"
      ],
      "execution_count": null,
      "outputs": []
    },
    {
      "cell_type": "markdown",
      "metadata": {
        "id": "TyZwwLT_dMKZ"
      },
      "source": []
    },
    {
      "cell_type": "code",
      "metadata": {
        "id": "IwwvwxI5dLCD"
      },
      "source": [
        "num1=int(input(\"enter number\"))\n",
        "num2=int(input(\"enter number\"))\n",
        "num3=int(input(\"enter number\"))\n",
        "if num1>num2:\n",
        "  if num1>num3:\n",
        "    print(\"hi\")\n",
        "  else:\n",
        "      print(\"hel\")\n",
        "elif num2>num1:\n",
        "  if num2>num3:\n",
        "    print(\"bye\")\n",
        "  else:\n",
        "    print(\"next\")"
      ],
      "execution_count": null,
      "outputs": []
    },
    {
      "cell_type": "code",
      "metadata": {
        "id": "D3mZnhE_dcz1"
      },
      "source": [
        "a=1\n",
        "\n",
        "while a<=5:\n",
        "     d=int(input(\"enter number\"))\n",
        "     if d<18:\n",
        "          print(\"number is less\")\n",
        "     elif d>18:\n",
        "          print (\"number isless than 30 \")\n",
        "     elif d==18:\n",
        "          print (\" you won\")\n",
        "     else:\n",
        "          print (\"lose\")\n",
        "          a=+1\n",
        "     break"
      ],
      "execution_count": null,
      "outputs": []
    },
    {
      "cell_type": "markdown",
      "metadata": {
        "id": "RI2anIhzrzUE"
      },
      "source": [
        "to print no till user wants\n"
      ]
    },
    {
      "cell_type": "code",
      "metadata": {
        "id": "nMIC6vfprxzZ"
      },
      "source": [
        "a=int(input(\"enter number  \"))\n",
        "for i in range (1,a):\n",
        "  print(i)\n"
      ],
      "execution_count": null,
      "outputs": []
    },
    {
      "cell_type": "markdown",
      "metadata": {
        "id": "vkfGtR3sq8ww"
      },
      "source": [
        "***function***\n"
      ]
    },
    {
      "cell_type": "code",
      "metadata": {
        "id": "jziROLpXqa_y"
      },
      "source": [
        "def my_function(country = \"Norway\"):\n",
        "  print(\"I am from \" + country)\n",
        "\n",
        "my_function(\"Sweden\")\n",
        "my_function(\"India\")\n",
        "my_function()"
      ],
      "execution_count": null,
      "outputs": []
    },
    {
      "cell_type": "markdown",
      "metadata": {
        "id": "2sFklKxZotel"
      },
      "source": []
    },
    {
      "cell_type": "markdown",
      "metadata": {
        "id": "Eg36V4jqpO0Y"
      },
      "source": [
        "\n",
        "**program to input nuber and calculate factorial egample**"
      ]
    },
    {
      "cell_type": "code",
      "metadata": {
        "id": "zQ2HGFIPzg1b"
      },
      "source": [
        "fac=1\n",
        "n = int(input(\"Enter Number for factorial\"))\n",
        "for i in range (n,0,-1):\n",
        "    print(i)\n",
        "    fac=fac*i\n",
        "print(\"Factorial:\",fac,end = ' ')"
      ],
      "execution_count": null,
      "outputs": []
    },
    {
      "cell_type": "markdown",
      "metadata": {
        "id": "9lc3qE2QgaMs"
      },
      "source": []
    },
    {
      "cell_type": "code",
      "metadata": {
        "id": "0vDio4hCPky8"
      },
      "source": [
        "lst1=[10,12,37,56]\n",
        "lst2=[22,39,46,81,74,39]\n",
        "lst1.append(lst2)\n",
        "print(len(lst1))\n",
        "print(lst1)"
      ],
      "execution_count": null,
      "outputs": []
    },
    {
      "cell_type": "markdown",
      "metadata": {
        "id": "AtyywhPmYRZk"
      },
      "source": [
        "to check no of candle\n"
      ]
    },
    {
      "cell_type": "code",
      "metadata": {
        "id": "OHKzVCnpbzSG"
      },
      "source": [
        "no_ofcandles=int(input(\" no  of candles _ maximum height of 10 candless alowed and repetation alowed \"))\n",
        "birthday_candles=list(input(\" enter height of candles it is a list dont put comaas\"))\n",
        "list2=list(birthday_candles)\n",
        "len (list2)\n",
        "\n"
      ],
      "execution_count": null,
      "outputs": []
    },
    {
      "cell_type": "markdown",
      "metadata": {
        "id": "vp0av23-roKA"
      },
      "source": [
        "to check length of word is grater than 1 or **not**"
      ]
    },
    {
      "cell_type": "code",
      "metadata": {
        "id": "EhvsBAsJP2Fk"
      },
      "source": [
        "word=input()\n",
        "b=len(word)\n",
        "if b>1:\n",
        "    print(\"yes\")\n",
        "else :\n",
        "    print(\"no\")"
      ],
      "execution_count": null,
      "outputs": []
    },
    {
      "cell_type": "markdown",
      "metadata": {
        "id": "1y7oHRVjecjM"
      },
      "source": []
    },
    {
      "cell_type": "markdown",
      "metadata": {
        "id": "WOXIZWYRaTxk"
      },
      "source": [
        "#pandas"
      ]
    },
    {
      "cell_type": "code",
      "metadata": {
        "id": "tAOROced-kM1"
      },
      "source": [
        "import pandas as pd\n",
        "h=('aa','34','10.8')\n",
        "s=pd.Series(h)\n",
        "print(s)"
      ],
      "execution_count": null,
      "outputs": []
    },
    {
      "cell_type": "code",
      "metadata": {
        "id": "KBf_OXg4bZQg"
      },
      "source": [
        "#data frames\n",
        "data={'name':['shivam mishra','sanndhya mishra '],\n",
        "      'date of birth': ['22-04-2005','16-05-2009'],\n",
        " }\n",
        "df=pd.DataFrame(data)\n",
        "print(df)"
      ],
      "execution_count": null,
      "outputs": []
    },
    {
      "cell_type": "code",
      "metadata": {
        "id": "CcNxqcjBc4-w"
      },
      "source": [
        "#modification in series in dictionaries\n",
        "data={'  name ':['shivam mishra','sanndhya mishra '],\n",
        "      'date of birth': ['22-04-2005','16-05-2009'],\n",
        " }\n",
        "df=pd.DataFrame(data)\n",
        "df['father']='  girdhari mishra'#add colums to series\n",
        "df['class']=' unkown'\n",
        "df.index= ['one','two']#add index value to series\n",
        "del df['class']# dele row\n",
        "print(df)"
      ],
      "execution_count": null,
      "outputs": []
    },
    {
      "cell_type": "markdown",
      "metadata": {
        "id": "EzcLe42k41ZT"
      },
      "source": [
        "df=pd.read_csv('/content/gdrive/My Drive/csv/data/project.csv',index_col=None)\n",
        "print(df)"
      ]
    },
    {
      "cell_type": "markdown",
      "metadata": {
        "id": "H4rTuq9xNB-w"
      },
      "source": [
        "csv files\n",
        "**to uplod write**  \n",
        "/content/drive/My Drive/csv/data/filename/file"
      ]
    },
    {
      "cell_type": "code",
      "metadata": {
        "id": "GUkI2ueYsgiX"
      },
      "source": [
        "import pandas as pd\n",
        "print(\"\"\"\n",
        "enter 1 to open  cast.cvs\n",
        "enter 2 to open titles.cvs\n",
        "\"\"\")\n",
        "a=int(input(\"enter nuumber\"))\n",
        "if a==1:\n",
        "  df=pd.read_csv('/content/gdrive/My Drive/csv/data/cast.csv',index_col=None)\n",
        "  s=df.head()#only show first five elements of data frame\n",
        "  print(s)\n",
        "else:\n",
        "  df=pd.read_csv('/content/gdrive/My Drive/csv/data/titles.csv',index_col=None)\n",
        "  p=df.tail()#only show last five elements of data frame\n",
        "  d=len(df)#to see total no rows and colum\n",
        "  print(p)\n",
        "  print(d)"
      ],
      "execution_count": null,
      "outputs": []
    },
    {
      "cell_type": "markdown",
      "metadata": {
        "id": "vEuERJKXbxsH"
      },
      "source": [
        "pandas"
      ]
    },
    {
      "cell_type": "code",
      "metadata": {
        "id": "IQeyBIbIbwLi"
      },
      "source": [
        "import pandas as pd\n",
        "print(\"\"\"\n",
        "enter 1 to open  cast.cvs\n",
        "enter 2 to open titles.cvs\n",
        "\"\"\")\n",
        "a=int(input(\"enter nuumber\"))\n",
        "if a==1:\n",
        "  df=pd.read_csv('/content/gdrive/My Drive/csv/data/project.csv',index_col=None)\n",
        "  s=df.head()#only show first five elements of data frame\n",
        "  print(s)\n",
        "else:\n",
        "  df=pd.read_csv('/content/gdrive/My Drive/csv/data/titles.csv',index_col=None)\n",
        "  p=df.tail()#only show last five elements of data frame\n",
        "  d=len(df)#to see total no rows and colum\n",
        "  print(p)\n",
        "  print(d)"
      ],
      "execution_count": null,
      "outputs": []
    },
    {
      "cell_type": "markdown",
      "metadata": {
        "id": "161MltVl4lZt"
      },
      "source": [
        "#Graphs"
      ]
    },
    {
      "cell_type": "code",
      "metadata": {
        "id": "pEiqHt_j4k0r"
      },
      "source": [
        "#basic knowldge to make line graph\n",
        "import matplotlib.pyplot as plt\n",
        "x=[2,8]\n",
        "y=[6,7]\n",
        "plt.plot(x,y)# to creat line\n",
        "plt.title(\"demo of line chart \") # to give title\n",
        "plt.xlabel(\"time\") # label names of x axsis\n",
        "plt.ylabel(\"distance\")# label names of y axsis\n",
        "plt.show # to show line"
      ],
      "execution_count": null,
      "outputs": []
    },
    {
      "cell_type": "code",
      "metadata": {
        "id": "SooYAv4D9VKE"
      },
      "source": [
        "import matplotlib.pyplot as plt\n",
        "x=[2,3,4,5,8]\n",
        "y=[1,2,3,5,6,]\n",
        "plt.plot(x,y, color=\"red\" , marker= \"+\" , markeredgecolor=\"black\",\n",
        "         linewidth=\"4\", linestyle=\"dashed\" )# togive diff layout\n",
        "plt.title(\"demo of line chart \") # to give title\n",
        "plt.xlabel(\"time\") # label names of x axsis\n",
        "plt.ylabel(\"distance\")# label names of y axsis\n",
        "plt.show # to show line"
      ],
      "execution_count": null,
      "outputs": []
    },
    {
      "cell_type": "code",
      "metadata": {
        "id": "k-eiKmq_B1dw"
      },
      "source": [
        "##demo of line chart\n",
        "import matplotlib.pyplot as plt\n",
        "x=[2,8]\n",
        "y=[6,7]\n",
        "plt.plot(x,y,\"r+-\")# shotcut for laye out full explained above\n",
        "plt.title(\"demo of line chart \") # to give title\n",
        "plt.xlabel(\"time\") # label names of x axsis\n",
        "plt.ylabel(\"distance\")# label names of y axsis\n",
        "plt.show # to show line"
      ],
      "execution_count": null,
      "outputs": []
    },
    {
      "cell_type": "code",
      "metadata": {
        "id": "TporW9j7EYtS"
      },
      "source": [
        "#multi graphs\n",
        "import matplotlib.pyplot as plt\n",
        "x=[1,2,3,4,]\n",
        "y=[23,41,26,10]\n",
        "z=[10,20,30,40]\n",
        "plt.plot(x,y,'r+-',label=\"shyam\",linewidth=3)# to creat line\n",
        "plt.plot(x,z,'b+-',label=\"ram\",linewidth=3)# to creat line\n",
        "plt.legend(loc=\"best\")\n",
        "plt.show() # to show line"
      ],
      "execution_count": null,
      "outputs": []
    },
    {
      "cell_type": "code",
      "metadata": {
        "id": "oEK4PKEALj89"
      },
      "source": [
        "import matplotlib.pyplot as plt\n",
        "boy=[10,29,39,47,]\n",
        "girl=[23,41,26,10]\n",
        "x=np.arange(4)\n",
        "plt.bar(x, boy ,width=0.2,color='b',label=\"boy\")\n",
        "plt.bar(x+ .2, girl,width=0.2,color='r',label=\"girls\")\n",
        "plt.xticks([0,1,2,3])\n",
        "plt.legend(loc=\"best\")\n",
        "plt.title(\"admission per week \") # to give title\n",
        "plt.xlabel(\"week\") # label names of x axsis\n",
        "plt.ylabel(\"admision\")# label names of y axsis\n",
        "plt.show()"
      ],
      "execution_count": null,
      "outputs": []
    },
    {
      "cell_type": "code",
      "metadata": {
        "id": "er3L4IsycdU0"
      },
      "source": [
        "import matplotlib.pyplot as plt\n",
        "x=[\"english\",\"hindi\",\"maths\",\"science\",\"soc.sc\"]\n",
        "y=[90,89,99,45,56]\n",
        "plt.bar(x,y,color=[\"green\",\"blue\",\"yellow\",\"pink\",\"orange\"],width=0.4)\n",
        "plt.title(\"Class X-Preboard Marks\")\n",
        "plt.xlabel(\"subjects\")\n",
        "plt.ylabel(\"marks\")\n",
        "plt.show"
      ],
      "execution_count": null,
      "outputs": []
    },
    {
      "cell_type": "code",
      "metadata": {
        "id": "roXhR_RkeSsc"
      },
      "source": [
        "\n",
        "import matplotlib.pyplot as plt\n",
        "x=['   cricket   ','     football     ','       basketball      ','        volleyball     ','   chess     ','     tennis     ','badminton']\n",
        "y=[45,53,99,44,66,22,37]\n",
        "plt.bar(x,y,color=[\"green\",\"red\",\"yellow\",\"blue\",\"pink\",\"orange\",\"indigo\"],width=0.3)\n",
        "plt.title(\" bar graph \") # to give title\n",
        "plt.xlabel(\"sports\") # label names of x axsis\n",
        "plt.ylabel(\"no of student\")# label names of y axsis\n",
        "plt.show # to show line"
      ],
      "execution_count": null,
      "outputs": []
    },
    {
      "cell_type": "code",
      "metadata": {
        "id": "WjSDi1p09lSM"
      },
      "source": [
        "import matplotlib.pyplot as plt\n",
        "x=[35,245,210,175,280]\n",
        "y=['school bus','private bus','bicycle','rikshaw','on foot']\n",
        "plt.pie(x,labels=y)# shotcut for laye out full explained above\n",
        "plt.title(\" modes of transport  by school studebts\") # to give title\n",
        "plt.show # to show graph"
      ],
      "execution_count": null,
      "outputs": []
    },
    {
      "cell_type": "code",
      "metadata": {
        "id": "u5HM5Rg74tAj"
      },
      "source": [
        "import matplotlib.pyplot as plt\n",
        "y=[140,160,130,110,170]\n",
        "x=['JUNE','JULY', 'AUG','SEP','OCT' ]\n",
        "plt.plot(x,y,'b+-',label=\"RAINFALL\",linewidth=3,markeredgecolor=\"black\")\n",
        "plt.title(\"line chart \") # to give title\n",
        "plt.xlabel(\"months\") # label names of x axsis\n",
        "plt.ylabel(\"rain fall in mms\")# label names of y axsis\n",
        "plt.show # to show line"
      ],
      "execution_count": null,
      "outputs": []
    },
    {
      "cell_type": "markdown",
      "metadata": {
        "id": "O6_5J_grXLKp"
      },
      "source": [
        "#project on sikkim\n"
      ]
    },
    {
      "cell_type": "code",
      "metadata": {
        "id": "xLKYEDCQ_R2B"
      },
      "source": [
        "from google.colab import drive\n",
        "drive.mount('/content/gdrive')"
      ],
      "execution_count": null,
      "outputs": []
    },
    {
      "cell_type": "code",
      "metadata": {
        "id": "gcZRweGUHK8r"
      },
      "source": [
        "import pandas as pd\n",
        "import numpy as np\n",
        "import matplotlib.pyplot as plt\n",
        "df=pd.read_csv('/content/gdrive/My Drive/project.csv')\n",
        "x=df['year']\n",
        "y=df['population']\n",
        "plt.plot(x,y,'r+-',label=\"poulation\",linewidth=3)\n",
        "plt.title(\" line chart \") # to give title\n",
        "plt.xlabel(\"population\") # label names of x axsis\n",
        "plt.ylabel(\"year\")# label names of y axsis\n",
        "plt.show # to show line"
      ],
      "execution_count": null,
      "outputs": []
    },
    {
      "cell_type": "code",
      "metadata": {
        "id": "ZHCUBMUpH09Q"
      },
      "source": [
        "import pandas as pd\n",
        "import numpy as np\n",
        "import matplotlib.pyplot as plt\n",
        "df=pd.read_csv('/content/gdrive/My Drive/project.csv')\n",
        "x=df['year']\n",
        "y=df['net change']\n",
        "plt.plot(x,y,'r+-',label=\"poulation\",linewidth=3)\n",
        "plt.title(\"line chart \") # to give title\n",
        "plt.xlabel(\"NET CHANGE\") # label names of x axsis\n",
        "plt.ylabel(\"year\")# label names of y axsis\n",
        "plt.show # to show line"
      ],
      "execution_count": null,
      "outputs": []
    },
    {
      "cell_type": "code",
      "metadata": {
        "id": "dDuE6VGiH4Yo"
      },
      "source": [
        "import pandas as pd\n",
        "import numpy as np\n",
        "import matplotlib.pyplot as plt\n",
        "df=pd.read_csv('/content/gdrive/My Drive/project.csv')\n",
        "x=df['year']\n",
        "y=df['rate %']\n",
        "plt.plot(x,y,'r+-',label=\"poulation\",linewidth=3)\n",
        "plt.title(\" line chart \") # to give title\n",
        "plt.xlabel(\"rate \") # label names of x axsis\n",
        "plt.ylabel(\"year\")# label names of y axsis\n",
        "plt.show # to show line"
      ],
      "execution_count": null,
      "outputs": []
    },
    {
      "cell_type": "markdown",
      "metadata": {
        "id": "BXoMpSelZNKT"
      },
      "source": []
    },
    {
      "cell_type": "code",
      "metadata": {
        "id": "7-qsOYbfZNn_"
      },
      "source": [],
      "execution_count": null,
      "outputs": []
    }
  ]
}