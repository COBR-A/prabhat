{
 "cells": [
  {
   "cell_type": "markdown",
   "metadata": {},
   "source": [
    "1.wap to display the  multiplication table .\n",
    "using loop and condition.\n",
    "2.wap to check amstrong number.\n",
    "\n"
   ]
  },
  {
   "cell_type": "code",
   "execution_count": 16,
   "metadata": {},
   "outputs": [
    {
     "name": "stdout",
     "output_type": "stream",
     "text": [
      "Multiplication Table for 7:\n",
      "7\n",
      "14\n",
      "21\n",
      "28\n",
      "35\n",
      "42\n",
      "49\n",
      "56\n",
      "63\n",
      "70\n"
     ]
    }
   ],
   "source": [
    "\n",
    "num = int(input(\"Enter a number: \"))\n",
    "if num < 0:\n",
    "    print(\"Please enter a positive number.\")\n",
    "else:\n",
    "    print(f\"Multiplication Table for {num}:\")\n",
    "    for i in range(1, 11):\n",
    "        print(num * i)\n",
    "\n"
   ]
  },
  {
   "cell_type": "code",
   "execution_count": 15,
   "metadata": {},
   "outputs": [
    {
     "name": "stdout",
     "output_type": "stream",
     "text": [
      "526 is not an Armstrong number.\n"
     ]
    }
   ],
   "source": [
    "num = int(input(\"Enter a number: \"))\n",
    "sum_digits = sum(int(digit) ** len(str(num)) for digit in str(num))\n",
    "if num == sum_digits:\n",
    "    print(f\"{num} is an Armstrong number.\")\n",
    "else:\n",
    "    print(f\"{num} is not an Armstrong number.\")"
   ]
  },
  {
   "cell_type": "markdown",
   "metadata": {},
   "source": [
    "3.wap to itrate through a string.\n",
    "4.wap to write to print table starting from 2 to n.\n",
    "5.wap to loop through a list ."
   ]
  },
  {
   "cell_type": "code",
   "execution_count": 13,
   "metadata": {},
   "outputs": [
    {
     "name": "stdout",
     "output_type": "stream",
     "text": [
      "Character at index 0 is h\n",
      "Character at index 1 is e\n",
      "Character at index 2 is l\n",
      "Character at index 3 is l\n",
      "Character at index 4 is o\n",
      "Character at index 5 is  \n",
      "Character at index 6 is j\n",
      "Character at index 7 is i\n",
      "Character at index 8 is i\n",
      "Character at index 9 is i\n"
     ]
    }
   ],
   "source": [
    "inp = list(input(\"Enter a string: \"))\n",
    "\n",
    "for i in range(len(inp)):\n",
    "    print(f\"Character at index {i} is {inp[i]}\")"
   ]
  },
  {
   "cell_type": "markdown",
   "metadata": {},
   "source": [
    "6.wap to check how to append the number in the lists after that print if the no is even or odd\n",
    "7.extract letter from a string and put in a list\n",
    "8.wap to create a touple any 10 value print all of them using for loop"
   ]
  },
  {
   "cell_type": "code",
   "execution_count": 12,
   "metadata": {},
   "outputs": [
    {
     "name": "stdout",
     "output_type": "stream",
     "text": [
      "1 is odd\n",
      "2 is even\n",
      "3 is odd\n",
      "4 is even\n",
      "5 is odd\n",
      "6 is even\n",
      "7 is odd\n",
      "8 is even\n",
      "9 is odd\n",
      "10 is even\n"
     ]
    }
   ],
   "source": [
    "numbers = [1, 2, 3, 4, 5, 6, 7, 8, 9, 10]\n",
    "\n",
    "for num in numbers:\n",
    "    print(f\"{num} is {'even' if num % 2 == 0 else 'odd'}\")"
   ]
  },
  {
   "cell_type": "code",
   "execution_count": 11,
   "metadata": {},
   "outputs": [
    {
     "name": "stdout",
     "output_type": "stream",
     "text": [
      "['H', 'e', 'l', 'l', 'o', 'W', 'o', 'r', 'l', 'd']\n"
     ]
    }
   ],
   "source": [
    "input_string = \"Hello, World!\"\n",
    "letters_list = [char for char in input_string if char.isalpha()]\n",
    "print(letters_list)"
   ]
  },
  {
   "cell_type": "code",
   "execution_count": 10,
   "metadata": {},
   "outputs": [
    {
     "name": "stdout",
     "output_type": "stream",
     "text": [
      "10\n",
      "20\n",
      "30\n",
      "40\n",
      "50\n",
      "60\n",
      "70\n",
      "80\n",
      "90\n",
      "100\n"
     ]
    }
   ],
   "source": [
    "ple = (10, 20, 30, 40, 50, 60, 70, 80, 90, 100)\n",
    "for value in ple:\n",
    "    print(value)"
   ]
  },
  {
   "cell_type": "code",
   "execution_count": 4,
   "metadata": {},
   "outputs": [
    {
     "name": "stdout",
     "output_type": "stream",
     "text": [
      "All elements: [1, 2, 3, 4, 5]\n",
      "Even elements: [2, 4]\n",
      "Odd elements: [1, 3, 5]\n"
     ]
    }
   ],
   "source": [
    "n = int(input(\"Enter the number of elements: \"))\n",
    "ls = [int(input(\"Enter an element: \")) for _ in range(n)]\n",
    "\n",
    "print(\"All elements:\", ls)\n",
    "print(\"Even elements:\", [x for x in ls if x % 2 == 0])\n",
    "print(\"Odd elements:\", [x for x in ls if x % 2 != 0])"
   ]
  },
  {
   "cell_type": "code",
   "execution_count": 6,
   "metadata": {},
   "outputs": [
    {
     "name": "stdout",
     "output_type": "stream",
     "text": [
      "List of letters: ['h', 'e', 'l', 'l', 'o', 'j', 'i']\n"
     ]
    }
   ],
   "source": [
    "str1 = input(\"Enter a string: \")\n",
    "ls1 = [letter for letter in str1 if letter.isalpha()]\n",
    "print(\"List of letters:\", ls1)"
   ]
  },
  {
   "cell_type": "code",
   "execution_count": 1,
   "metadata": {},
   "outputs": [
    {
     "name": "stdout",
     "output_type": "stream",
     "text": [
      "1\n",
      "2\n",
      "3\n",
      "4\n",
      "5\n",
      "6\n",
      "7\n",
      "8\n",
      "9\n",
      "10\n"
     ]
    },
    {
     "data": {
      "text/plain": [
       "[None, None, None, None, None, None, None, None, None, None]"
      ]
     },
     "execution_count": 1,
     "metadata": {},
     "output_type": "execute_result"
    }
   ],
   "source": [
    "tup = tuple(range(1, 11))\n",
    "[print(value) for value in tup]"
   ]
  },
  {
   "cell_type": "markdown",
   "metadata": {},
   "source": [
    "wap to swap first and last element of list\n",
    "wap to create list that stores the prime no"
   ]
  },
  {
   "cell_type": "code",
   "execution_count": 7,
   "metadata": {},
   "outputs": [
    {
     "name": "stdout",
     "output_type": "stream",
     "text": [
      "[10, 20, 30, 40]\n",
      "[40, 20, 30, 10]\n"
     ]
    }
   ],
   "source": [
    "l1=[10,20,30,40]\n",
    "print(l1)\n",
    "l1[0], l1[-1] = l1[-1], l1[0]\n",
    "print(l1)"
   ]
  },
  {
   "cell_type": "code",
   "execution_count": 9,
   "metadata": {},
   "outputs": [
    {
     "name": "stdout",
     "output_type": "stream",
     "text": [
      "[2, 3, 5, 7, 11, 13, 17, 19, 23, 29, 31, 37, 41, 43, 47, 53, 59, 61, 67, 71, 73, 79, 83, 89, 97]\n"
     ]
    }
   ],
   "source": [
    "lt = [num for num in range(2, 101) if all(num % i != 0 for i in range(2, int(num**0.5) + 1))]\n",
    "print(lt)"
   ]
  },
  {
   "cell_type": "markdown",
   "metadata": {},
   "source": [
    "wap to insert random numbers in the list and find the largest number"
   ]
  },
  {
   "cell_type": "code",
   "execution_count": null,
   "metadata": {},
   "outputs": [],
   "source": [
    "import random\n",
    "numbers = []\n",
    "for i in range(10):\n",
    "    number = random.randint(1, 100)\n",
    "    numbers.append(number)\n",
    "\n",
    "largest_number = max(numbers)\n",
    "print(\"The largest number is:\", largest_number)"
   ]
  },
  {
   "cell_type": "markdown",
   "metadata": {},
   "source": []
  }
 ],
 "metadata": {
  "kernelspec": {
   "display_name": "Python 3",
   "language": "python",
   "name": "python3"
  },
  "language_info": {
   "codemirror_mode": {
    "name": "ipython",
    "version": 3
   },
   "file_extension": ".py",
   "mimetype": "text/x-python",
   "name": "python",
   "nbconvert_exporter": "python",
   "pygments_lexer": "ipython3",
   "version": "3.11.7"
  }
 },
 "nbformat": 4,
 "nbformat_minor": 2
}
