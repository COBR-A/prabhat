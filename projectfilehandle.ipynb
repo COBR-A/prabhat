{
  "nbformat": 4,
  "nbformat_minor": 0,
  "metadata": {
    "colab": {
      "private_outputs": true,
      "provenance": [],
      "authorship_tag": "ABX9TyPBeYUYdfgtGnKnz6Q6UU6/",
      "include_colab_link": true
    },
    "kernelspec": {
      "name": "python3",
      "display_name": "Python 3"
    },
    "language_info": {
      "name": "python"
    }
  },
  "cells": [
    {
      "cell_type": "markdown",
      "metadata": {
        "id": "view-in-github",
        "colab_type": "text"
      },
      "source": [
        "<a href=\"https://colab.research.google.com/github/COBR-A/prabhat/blob/main/projectfilehandle.ipynb\" target=\"_parent\"><img src=\"https://colab.research.google.com/assets/colab-badge.svg\" alt=\"Open In Colab\"/></a>"
      ]
    },
    {
      "cell_type": "code",
      "source": [
        "user_details = {\n",
        "    \"prabhat\": \"3456789\",\n",
        "    \"user1\": \"123456\",\n",
        "}\n",
        "registered_users = list(user_details.keys())"
      ],
      "metadata": {
        "id": "EN0X6VIsV2w1"
      },
      "execution_count": null,
      "outputs": []
    },
    {
      "cell_type": "code",
      "source": [
        "books = [\n",
        "    {\"id\": \"00AW\", \"title\": \"Wings of Fire\", \"author\": \"Abdul Kalam\", \"price\": 214.99},\n",
        "    {\"id\": \"01IM\", \"title\": \"Ignited Minds\", \"author\": \"Abdul Kalam\", \"price\": 213.50},\n",
        "    {\"id\": \"02IV\", \"title\": \"India 2020: A Vision for the New Millennium\", \"author\": \"Abdul Kalam\", \"price\": 212.75},\n",
        "    {\"id\": \"03MJ\", \"title\": \"My Journey: Transforming Dreams into Actions\", \"author\": \"Abdul Kalam\", \"price\": 215.25},\n",
        "    {\"id\": \"04IM\", \"title\": \"The Immortals of Meluha\", \"author\": \"Amish Tripathi\", \"price\": 314.99},\n",
        "    {\"id\": \"05SN\", \"title\": \"The Secret of the Nagas\", \"author\": \"Amish Tripathi\", \"price\": 313.50},\n",
        "    {\"id\": \"06OV\", \"title\": \"The Oath of the Vayuputras\", \"author\": \"Amish Tripathi\", \"price\": 312.75},\n",
        "    {\"id\": \"07SI\", \"title\": \"Scion of Ikshvaku\", \"author\": \"Amish Tripathi\", \"price\": 315.25},\n",
        "    {\"id\": \"08SB\", \"title\": \"A Suitable Boy\", \"author\": \"Vikram Seth\", \"price\": 215.50},\n",
        "    {\"id\": \"09MC\", \"title\": \"Midnight's Children\", \"author\": \"Salman Rushdie\", \"price\": 514.75},\n",
        "    {\"id\": \"10WT\", \"title\": \"The White Tiger\", \"author\": \"Aravind Adiga\", \"price\": 311.25},\n",
        "    {\"id\": \"11TG\", \"title\": \"The Guide\", \"author\": \"R.K. Narayan\", \"price\": 510.99},\n",
        "    {\"id\": \"12TP\", \"title\": \"Train to Pakistan\", \"author\": \"Khushwant Singh\", \"price\": 193.80},\n",
        "    {\"id\": \"13PC\", \"title\": \"Python Crash Course\", \"author\": \"Eric Matthes\", \"price\": 225.00},\n",
        "    {\"id\": \"14IA\", \"title\": \"Introduction to Algorithms\", \"author\": \"Thomas H. Cormen\", \"price\": 445.00},\n",
        "    {\"id\": \"15HD\", \"title\": \"Head First Design Patterns\", \"author\": \"Eric Freeman\", \"price\": 340.00},\n",
        "    {\"id\": \"16JG\", \"title\": \"JavaScript: The Good Parts\", \"author\": \"Douglas Crockford\", \"price\": 520.00}\n",
        "]"
      ],
      "metadata": {
        "id": "B1nrBI9N6k6e"
      },
      "execution_count": null,
      "outputs": []
    },
    {
      "cell_type": "code",
      "source": [
        "file_path = \"books_data.txt\"\n",
        "with open(file_path, \"w\") as file:\n",
        "    for book in books:\n",
        "        file.write(f\"ID: {book['id']}, Title: {book['title']}, Author: {book['author']}, Price: ${book['price']}\\n\")\n",
        "print(f\"Data successfully written to '{file_path}'\")"
      ],
      "metadata": {
        "id": "9ol4Vmd76oWF"
      },
      "execution_count": null,
      "outputs": []
    },
    {
      "cell_type": "code",
      "source": [
        "def login():\n",
        "    while True:\n",
        "        username = input(\"Enter username: \")\n",
        "        password = input(\"Enter password: \")\n",
        "\n",
        "        if username in user_details and user_details[username] == password:\n",
        "            print(f\"login successful! welcome, {username}.\")\n",
        "            return username\n",
        "        else:\n",
        "            print(\"invalid username or password. please try again.\")\n"
      ],
      "metadata": {
        "id": "Xopp5eYJV2mP"
      },
      "execution_count": null,
      "outputs": []
    },
    {
      "cell_type": "code",
      "source": [
        "def register_user():\n",
        "    while True:\n",
        "        new_username = input(\"enter new username: \")\n",
        "\n",
        "        if new_username in user_details:\n",
        "            print(\"username already exists. please choose a different username.\")\n",
        "        else:\n",
        "            new_password = input(\"enter password for the new user: \")\n",
        "            user_details[new_username] = new_password\n",
        "            registered_users.append(new_username)\n",
        "            print(f\"user '{new_username}' registered successfully!\")\n",
        "            return new_username"
      ],
      "metadata": {
        "id": "owOo1CZtV9Lp"
      },
      "execution_count": null,
      "outputs": []
    },
    {
      "cell_type": "code",
      "source": [
        "def display():\n",
        "  with open(file_path, \"r\") as f:\n",
        "    reader = f.readlines()\n",
        "    print(\"Content of books_data.txt:\")\n",
        "    for line in reader:\n",
        "      print(line.strip())\n"
      ],
      "metadata": {
        "id": "-3IcOEqa7cLi"
      },
      "execution_count": null,
      "outputs": []
    },
    {
      "cell_type": "code",
      "source": [
        "def display_books_by_author():\n",
        "  author_name = input(\"Enter the author's name to display books: \")\n",
        "  with open(file_path, \"r\") as f:\n",
        "    all_books = f.readlines()\n",
        "\n",
        "    found_books = False\n",
        "    for data in all_books:\n",
        "      book_details = data.strip().split(\", \")\n",
        "      author = book_details[2].split(\": \")[1]\n",
        "      if author.lower() == author_name.lower():\n",
        "        print(\"Books by\", author_name, \":\")\n",
        "        print(data.strip())\n",
        "        found_books = True\n",
        "\n",
        "    if not found_books:\n",
        "      print(f\"No books found by the author '{author_name}'.\")"
      ],
      "metadata": {
        "id": "CIqg7slPV-7C"
      },
      "execution_count": null,
      "outputs": []
    },
    {
      "cell_type": "code",
      "source": [
        "def add_newbook(file_path=\"books_data.txt\"):\n",
        "  with open(file_path, \"a\") as f:\n",
        "    book_id = input(\"Enter book ID: \")\n",
        "    title = input(\"Enter book title: \")\n",
        "    author = input(\"Enter book author: \")\n",
        "    price = float(input(\"Enter book price: \"))\n",
        "\n",
        "    f.write(f\"{book_id}\\t{title}\\t{author}\\t{price}\\n\")\n",
        "    print(\"Book details added successfully.\")"
      ],
      "metadata": {
        "id": "5ScdW7QnWA_1"
      },
      "execution_count": null,
      "outputs": []
    },
    {
      "cell_type": "code",
      "source": [
        "def issue_book():\n",
        "  book_id = input(\"Enter the book ID you want to issue: \")\n",
        "\n",
        "  with open(file_path, \"r\") as f:\n",
        "    all = f.readlines()\n",
        "\n",
        "  with open(file_path, \"w\") as f:\n",
        "    record_updated = False\n",
        "\n",
        "    for i in all:\n",
        "      details = i.strip().split(\"\\t\")\n",
        "\n",
        "      if details[0] == book_id:\n",
        "        if details[-1].strip().lower() != 'issued':\n",
        "          details[-1] = 'issued'\n",
        "          up_line = \"\\t\".join(details) + \"\\n\"\n",
        "          f.write(up_line)\n",
        "          print(f\"Book '{details[1]}' has been issued.\")\n",
        "          record_updated = True\n",
        "        else:\n",
        "          print(f\"Book '{details[1]}' is already issued.\")\n",
        "      else:\n",
        "        f.write(i)\n",
        "\n",
        "      if not record_updated:\n",
        "        print(f\"No record found with ID '{book_id}'.\")"
      ],
      "metadata": {
        "id": "TJuhLn9MWHyw"
      },
      "execution_count": null,
      "outputs": []
    },
    {
      "cell_type": "code",
      "execution_count": null,
      "metadata": {
        "id": "sSAP40XIU68b"
      },
      "outputs": [],
      "source": [
        "def returnbook(file_path=\"books_data.txt\"):\n",
        "  book_id = input(\"Enter the book ID to return: \")\n",
        "  book_returned = False\n",
        "\n",
        "  with open(file_path, \"r\") as f:\n",
        "    all_lines = f.readlines()\n",
        "\n",
        "  with open(file_path, \"w\") as f:\n",
        "    for line in all_lines:\n",
        "      details = line.strip().split(\"\\t\")\n",
        "\n",
        "      if details[0] == book_id:\n",
        "        if details[-1].strip().lower() == 'issued':\n",
        "          details[-1] = 'available'\n",
        "          updated_line = \"\\t\".join(details) + \"\\n\"\n",
        "          f.write(updated_line)\n",
        "          book_returned = True\n",
        "          print(f\"Book with ID {book_id} has been successfully returned.\")\n",
        "        else:\n",
        "          print(f\"Book with ID {book_id} is not currently issued.\")\n",
        "      else:\n",
        "        f.write(line)\n",
        "\n",
        "    if not book_returned:\n",
        "      print(f\"No book found with ID {book_id}.\")\n"
      ]
    },
    {
      "cell_type": "code",
      "source": [
        "def logout(username):\n",
        "    print(f\"logging out {username}...\")\n",
        "    print(\"logout successful\")"
      ],
      "metadata": {
        "id": "2i3poTiUVXGh"
      },
      "execution_count": null,
      "outputs": []
    },
    {
      "cell_type": "code",
      "source": [
        "def main_menu():\n",
        "    current_user = None\n",
        "\n",
        "    while True:\n",
        "        print(\"\\n********** E-Library Management System **********\")\n",
        "        try:\n",
        "            if not current_user:\n",
        "                print(\"1. Login\")\n",
        "                print(\"2. Register a new user\")\n",
        "            else:\n",
        "                print(f\"logged in as: {current_user}\")\n",
        "                print(\"3. display all books\")\n",
        "                print(\"4. list books by author (title and price)\")\n",
        "                print(\"5. add a book\")\n",
        "                print(\"6. issue a book\")\n",
        "                print(\"7. return a book\")\n",
        "                print(\"8. logout\")\n",
        "\n",
        "            choice = input(\"enter your choice: \")\n",
        "\n",
        "            if not current_user:\n",
        "                if choice == '1':\n",
        "                    current_user = login()\n",
        "                elif choice == '2':\n",
        "                    current_user = register_user()\n",
        "                else:\n",
        "                    print(\"invalid choice. please try again.\")\n",
        "            else:\n",
        "                if choice == '3':\n",
        "                    display()\n",
        "                elif choice == '4':\n",
        "                  display_books_by_author()\n",
        "                elif choice == '5':\n",
        "\n",
        "                  add_newbook()\n",
        "                elif choice == '6':\n",
        "                  display()\n",
        "                  issue_book()\n",
        "                elif choice == '7':\n",
        "                  display()\n",
        "                  returnbook()\n",
        "                elif choice == '8':\n",
        "                    print(f\"logging out {current_user}...\")\n",
        "                    current_user = None\n",
        "                else:\n",
        "                    print(\"invalid choice. please try again.\")\n",
        "        except Exception:\n",
        "            print(\"an error occurred.\")\n",
        "\n",
        "        if current_user is None:\n",
        "            break\n",
        "\n",
        "main_menu()\n"
      ],
      "metadata": {
        "id": "XqBXLnX54CAY"
      },
      "execution_count": null,
      "outputs": []
    }
  ]
}