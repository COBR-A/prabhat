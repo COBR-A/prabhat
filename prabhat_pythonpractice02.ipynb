{
  "nbformat": 4,
  "nbformat_minor": 0,
  "metadata": {
    "colab": {
      "provenance": [],
      "include_colab_link": true
    },
    "kernelspec": {
      "name": "python3",
      "display_name": "Python 3"
    },
    "language_info": {
      "name": "python"
    }
  },
  "cells": [
    {
      "cell_type": "markdown",
      "metadata": {
        "id": "view-in-github",
        "colab_type": "text"
      },
      "source": [
        "<a href=\"https://colab.research.google.com/github/COBR-A/prabhat/blob/main/prabhat_pythonpractice02.ipynb\" target=\"_parent\"><img src=\"https://colab.research.google.com/assets/colab-badge.svg\" alt=\"Open In Colab\"/></a>"
      ]
    },
    {
      "cell_type": "markdown",
      "metadata": {
        "id": "Us3-6H4joRVl"
      },
      "source": [
        "** 1.Write a Python program to get the Python version you are using**"
      ]
    },
    {
      "cell_type": "code",
      "metadata": {
        "id": "wd41_LR0gtJU",
        "colab": {
          "base_uri": "https://localhost:8080/"
        },
        "outputId": "dde82b0c-e5b5-478b-9278-4b84f3979bab"
      },
      "source": [
        "import sys\n",
        "print(\"Python version:\", sys.version)"
      ],
      "execution_count": null,
      "outputs": [
        {
          "output_type": "stream",
          "name": "stdout",
          "text": [
            "Python version: 3.7.12 (default, Sep 10 2021, 00:21:48) \n",
            "[GCC 7.5.0]\n"
          ]
        }
      ]
    },
    {
      "cell_type": "markdown",
      "metadata": {
        "id": "UTThTi41odZJ"
      },
      "source": [
        "**2.Write a Python program to display the current date and time.**"
      ]
    },
    {
      "cell_type": "code",
      "metadata": {
        "id": "X_Mj22gYi10D",
        "colab": {
          "base_uri": "https://localhost:8080/"
        },
        "outputId": "5eb52a1d-2a54-41c4-e27f-5d69fd05317e"
      },
      "source": [
        "import datetime\n",
        "n = datetime.datetime.now()\n",
        "date= n.strftime(\"%Y-%m-%d\")\n",
        "time= n.strftime(\"%H:%M:%S\")\n",
        "print (\"Current date: \", date)\n",
        "print (\"Current time: \", time)"
      ],
      "execution_count": null,
      "outputs": [
        {
          "output_type": "stream",
          "name": "stdout",
          "text": [
            "Current date:  2021-11-01\n",
            "Current time:  17:42:43\n"
          ]
        }
      ]
    },
    {
      "cell_type": "markdown",
      "metadata": {
        "id": "K7TuhUu_onj0"
      },
      "source": [
        "**3.Write a Python program to print the calendar of a given month and year.**"
      ]
    },
    {
      "cell_type": "code",
      "metadata": {
        "colab": {
          "base_uri": "https://localhost:8080/"
        },
        "id": "_qWOiQefiKVk",
        "outputId": "b01558ab-9e25-4774-813d-d2e3f46985f1"
      },
      "source": [
        "import calendar\n",
        "year = int(input(\"Input the year\"))\n",
        "month = int(input(\"Input the month\"))\n",
        "print(calendar.month(year, month))"
      ],
      "execution_count": null,
      "outputs": [
        {
          "output_type": "stream",
          "name": "stdout",
          "text": [
            "Input the year2001\n",
            "Input the month4\n",
            "     April 2001\n",
            "Mo Tu We Th Fr Sa Su\n",
            "                   1\n",
            " 2  3  4  5  6  7  8\n",
            " 9 10 11 12 13 14 15\n",
            "16 17 18 19 20 21 22\n",
            "23 24 25 26 27 28 29\n",
            "30\n",
            "\n"
          ]
        }
      ]
    },
    {
      "cell_type": "markdown",
      "metadata": {
        "id": "ZavVIJaSovS_"
      },
      "source": [
        "**Write a Python program to input marks in 5 subjects and calculate total and\n",
        "average marks.**"
      ]
    },
    {
      "cell_type": "code",
      "metadata": {
        "colab": {
          "base_uri": "https://localhost:8080/"
        },
        "id": "zyLuC-vmDc5I",
        "outputId": "1f025db1-109e-421b-da42-b8873aba6ff7"
      },
      "source": [
        "print(\"Enter marks out of 100\")\n",
        "sub1=int(input(\"Enter Marks in first subject\"))\n",
        "sub2=int(input(\"Enter Marks in second subject\"))\n",
        "sub3=int(input(\"Enter Marks in third subject\"))\n",
        "sub4=int(input(\"Enter Marks in fourth subject\"))\n",
        "sub5=int(input(\"Enter Marks in fifth subject\"))\n",
        "S= sub1+sub2+sub3+sub4+sub5\n",
        "Av= S/5\n",
        "Pe= (S/500)*100\n",
        "print(\"Average= \", Av, \"Percentage= \", Pe, \"%\")\n"
      ],
      "execution_count": null,
      "outputs": [
        {
          "output_type": "stream",
          "name": "stdout",
          "text": [
            "Enter marks out of 100\n",
            "Enter Marks in first subject78\n",
            "Enter Marks in second subject90\n",
            "Enter Marks in third subject89\n",
            "Enter Marks in fourth subject98\n",
            "Enter Marks in fifth subject89\n",
            "Average=  88.8 Percentage=  88.8 %\n"
          ]
        }
      ]
    },
    {
      "cell_type": "markdown",
      "metadata": {
        "id": "48g3Fn9Bo34F"
      },
      "source": [
        "**Write a Python program to input height and weight and find out BMI **"
      ]
    },
    {
      "cell_type": "code",
      "metadata": {
        "id": "I6Zd6ACRFFmB",
        "colab": {
          "base_uri": "https://localhost:8080/"
        },
        "outputId": "5e349775-69f5-4454-daf1-5ab428c5292c"
      },
      "source": [
        "Height=float(input(\"Enter Height in metreS\"))\n",
        "Weight=float(input(\"Enter Weight in Kilograms\"))\n",
        "BMI=Weight/(Height**2)\n",
        "print(\"Your BMI is: \", BMI)"
      ],
      "execution_count": null,
      "outputs": [
        {
          "output_type": "stream",
          "name": "stdout",
          "text": [
            "Enter Height in metreS5.6\n",
            "Enter Weight in Kilograms80\n",
            "Your BMI is:  2.5510204081632657\n"
          ]
        }
      ]
    },
    {
      "cell_type": "markdown",
      "metadata": {
        "id": "zR0Au2mhpHF5"
      },
      "source": [
        "\n",
        "** Write a Python program to input time in seconds and convert it into hours,\n",
        "minutes and seconds **"
      ]
    },
    {
      "cell_type": "code",
      "metadata": {
        "colab": {
          "base_uri": "https://localhost:8080/"
        },
        "id": "1OCkI49j3Mdq",
        "outputId": "d7be682a-8272-42a3-87f9-2fa407c871da"
      },
      "source": [
        "time=int(input(\"Enter time in seconds    \"))\n",
        "hour=time//3600\n",
        "minute=(time%3600)//60\n",
        "seconds=((time%3600)%60)\n",
        "print(\"Time is\", hour, (\"hours\"), minute, (\"minutes\"), seconds, (\"seconds\"))"
      ],
      "execution_count": null,
      "outputs": [
        {
          "output_type": "stream",
          "name": "stdout",
          "text": [
            "Enter time in seconds    120\n",
            "Time is 0 hours 2 minutes 0 seconds\n"
          ]
        }
      ]
    },
    {
      "cell_type": "markdown",
      "metadata": {
        "id": "SYEV-ShjpOl3"
      },
      "source": [
        "**Write Python code to swap two variables without using third variable**"
      ]
    },
    {
      "cell_type": "code",
      "metadata": {
        "id": "4pPoRrnz8h82",
        "colab": {
          "base_uri": "https://localhost:8080/"
        },
        "outputId": "9698af8f-84f6-45ea-a61c-5ba9b39fc558"
      },
      "source": [
        "a=int(input(\"Enter some number\"))\n",
        "b=int(input(\"Enter some number \"))\n",
        "a, b= b, a\n",
        "print(a)\n",
        "print(b)"
      ],
      "execution_count": null,
      "outputs": [
        {
          "output_type": "stream",
          "name": "stdout",
          "text": [
            "Enter some number5\n",
            "Enter some number 7\n",
            "7\n",
            "5\n"
          ]
        }
      ]
    },
    {
      "cell_type": "markdown",
      "metadata": {
        "id": "srhfQVI8pTrl"
      },
      "source": [
        "**To input age from the user and check whether user is eligible for voting or\n",
        "not**"
      ]
    },
    {
      "cell_type": "code",
      "metadata": {
        "id": "CtomfeeeG9QW",
        "colab": {
          "base_uri": "https://localhost:8080/"
        },
        "outputId": "d0385c98-10de-4b09-ece8-6c9e7abcac5b"
      },
      "source": [
        "age=int(input(\"Enter your age\"))\n",
        "if age<18:\n",
        "  print(\"You are not eligible to vote\")\n",
        "elif age>18:\n",
        "  print(\"You are eligible for voting\")\n",
        "else:\n",
        "  print(\"invalid entry\")"
      ],
      "execution_count": null,
      "outputs": [
        {
          "output_type": "stream",
          "name": "stdout",
          "text": [
            "Enter your age45\n",
            "You are eligible for voting\n"
          ]
        }
      ]
    },
    {
      "cell_type": "markdown",
      "metadata": {
        "id": "d6a-kq4vpYYV"
      },
      "source": [
        "**Input marks in 5 subjects and calculate total, average and grade according\n",
        "to the CBSE exam policy.**"
      ]
    },
    {
      "cell_type": "code",
      "metadata": {
        "id": "tetbVatAIVIE",
        "colab": {
          "base_uri": "https://localhost:8080/"
        },
        "outputId": "d8a3fbd1-b5e5-4bb4-9d8a-b7e676a444f1"
      },
      "source": [
        "print(\"Enter marks out of 100\")\n",
        "sub1=int(input(\"Enter Marks in first subject\"))\n",
        "sub2=int(input(\"Enter Marks in second subject\"))\n",
        "sub3=int(input(\"Enter Marks in third subject\"))\n",
        "sub4=int(input(\"Enter Marks in fourth subject\"))\n",
        "sub5=int(input(\"Enter Marks in fifth subject\"))\n",
        "S= sub1+sub2+sub3+sub4+sub5\n",
        "Av= S/5\n",
        "Pe= (S/500)*100\n",
        "print(\"Average= \", Av, \"Percentage= \", Pe, \"%\")\n",
        "if Av >= 90:\n",
        "  grade = 'A'\n",
        "elif Av >= 80 and Av< 90:\n",
        "  grade = 'B'\n",
        "elif Av >= 70 and Av < 80:\n",
        "  grade = 'C'\n",
        "elif Av >= 60 and Av < 70:\n",
        "  grade = 'D'\n",
        "else:\n",
        "  grade = 'E'\n",
        "print(\"Grade: \", grade)"
      ],
      "execution_count": null,
      "outputs": [
        {
          "output_type": "stream",
          "name": "stdout",
          "text": [
            "Enter marks out of 100\n",
            "Enter Marks in first subject87\n",
            "Enter Marks in second subject88\n",
            "Enter Marks in third subject99\n",
            "Enter Marks in fourth subject90\n",
            "Enter Marks in fifth subject98\n",
            "Average=  92.4 Percentage=  92.4 %\n",
            "Grade:  A\n"
          ]
        }
      ]
    },
    {
      "cell_type": "markdown",
      "metadata": {
        "id": "XTT4x7ZDpdGZ"
      },
      "source": [
        "**To input a character and check whether it is uppercase, lowercase, digit\n",
        "or special character.**"
      ]
    },
    {
      "cell_type": "code",
      "metadata": {
        "colab": {
          "base_uri": "https://localhost:8080/"
        },
        "id": "IvfYDASM64wj",
        "outputId": "b71c8ec1-9196-450c-ac8d-5275ce505d4a"
      },
      "source": [
        "a=\"y\"\n",
        "while a!=\"n\":\n",
        "  i=(input(\"Enter only one character \"))\n",
        "  if i>='a' and i<='z':\n",
        "    print(\"lowercase\")\n",
        "  elif i>='A' and i<='Z':\n",
        "    print(\"uppercase\")\n",
        "  elif i>='0' and i<='9':\n",
        "    print(\"Number\")\n",
        "  else:\n",
        "    print(\"Special character\")\n",
        "  a=input(\"Do you wish to continue ? y/n\")"
      ],
      "execution_count": null,
      "outputs": [
        {
          "name": "stdout",
          "output_type": "stream",
          "text": [
            "Enter only one character dfff\n",
            "lowercase\n",
            "Do you wish to continue ? y/nn\n"
          ]
        }
      ]
    },
    {
      "cell_type": "markdown",
      "metadata": {
        "id": "WuzT3WsjpkKs"
      },
      "source": [
        "**Print sum of even and odd numbers separately from 1 to n**"
      ]
    },
    {
      "cell_type": "code",
      "metadata": {
        "colab": {
          "base_uri": "https://localhost:8080/"
        },
        "id": "8f6TAA6MKvoW",
        "outputId": "4a5d9e3b-3397-486d-f6b6-b5587ef5dea2"
      },
      "source": [
        "n=int(input(\"Enter any number\"))\n",
        "e=0\n",
        "o=0\n",
        "for i in range(1, n+1, 2):\n",
        "  o+=i\n",
        "  e+=(i+1)\n",
        "print(\"Sum of odd: \", o)\n",
        "print(\"Sum of even: \", e)\n"
      ],
      "execution_count": null,
      "outputs": [
        {
          "output_type": "stream",
          "name": "stdout",
          "text": [
            "Enter any number56\n",
            "Sum of odd:  784\n",
            "Sum of even:  812\n"
          ]
        }
      ]
    },
    {
      "cell_type": "markdown",
      "metadata": {
        "id": "kIY__WhLppw-"
      },
      "source": [
        "**Print the Fibonacci series upto n terms**"
      ]
    },
    {
      "cell_type": "code",
      "metadata": {
        "colab": {
          "base_uri": "https://localhost:8080/"
        },
        "id": "ZlMf-PskMBum",
        "outputId": "7a22b850-b6c7-46fe-8efd-499ea93aca9a"
      },
      "source": [
        "n = int(input(\"Enter the nth value: \"))\n",
        "a = 0\n",
        "b = 1\n",
        "sum = 0\n",
        "count=0\n",
        "while count < n:\n",
        "      print(a, end=\" \")\n",
        "      sum = a + b\n",
        "      a = b\n",
        "      b = sum\n",
        "      count += 1\n"
      ],
      "execution_count": null,
      "outputs": [
        {
          "output_type": "stream",
          "name": "stdout",
          "text": [
            "Enter the nth value: 7\n",
            "0 1 1 2 3 5 8 "
          ]
        }
      ]
    },
    {
      "cell_type": "markdown",
      "metadata": {
        "id": "bBjDMViKpwTb"
      },
      "source": [
        "**To check whether the number entered by the user is prime or not**"
      ]
    },
    {
      "cell_type": "code",
      "metadata": {
        "colab": {
          "base_uri": "https://localhost:8080/"
        },
        "id": "1M896b32TEaH",
        "outputId": "0ef89ff7-674f-4816-baf7-ac74a7766979"
      },
      "source": [
        "n=int(input(\"Enter  number\"))\n",
        "if n%2==0 :\n",
        "    print(\" prime\")\n",
        "else:\n",
        "  print(\"not prime\")"
      ],
      "execution_count": null,
      "outputs": [
        {
          "output_type": "stream",
          "name": "stdout",
          "text": [
            "Enter  number4\n",
            " prime\n"
          ]
        }
      ]
    },
    {
      "cell_type": "markdown",
      "metadata": {
        "id": "XQ0iBWQfp1g5"
      },
      "source": [
        "**To input a number and check whether it is a palindrome number or not.\n",
        "**"
      ]
    },
    {
      "cell_type": "code",
      "metadata": {
        "colab": {
          "base_uri": "https://localhost:8080/"
        },
        "id": "L5QzofYvUjlF",
        "outputId": "cbf7164a-da9e-450a-ad0c-e007e40f83a6"
      },
      "source": [
        "n=int(input(\"Enter number:\"))\n",
        "temp=n\n",
        "rev=0\n",
        "while(n>0):\n",
        "    dig=n%10\n",
        "    rev=rev*10+dig\n",
        "    n=n//10\n",
        "if(temp==rev):\n",
        "    print(\"The number is a palindrome!\")\n",
        "else:\n",
        "    print(\"The number isn't a palindrome!\")"
      ],
      "execution_count": null,
      "outputs": [
        {
          "output_type": "stream",
          "name": "stdout",
          "text": [
            "Enter number:121\n",
            "The number is a palindrome!\n"
          ]
        }
      ]
    },
    {
      "cell_type": "markdown",
      "metadata": {
        "id": "9UvehhdJp8gr"
      },
      "source": [
        "** To find the sum of the series\n",
        "**"
      ]
    },
    {
      "cell_type": "code",
      "metadata": {
        "id": "PXQaEvScU8Wn",
        "colab": {
          "base_uri": "https://localhost:8080/"
        },
        "outputId": "42c4a650-9b5d-46ea-c5d6-98dbe056d7f2"
      },
      "source": [
        "x=int(input(\"Enter any number\"))\n",
        "n=int(input(\"Enter any number\"))\n",
        "s=0\n",
        "f=1\n",
        "for i in range(1, n+1):\n",
        "  if i%2==0:\n",
        "    continue\n",
        "  for j in range(1, i+2):\n",
        "    f=f*j\n",
        "  s=s+(x**i/(f))\n",
        "  f=1\n",
        "print(s)"
      ],
      "execution_count": null,
      "outputs": [
        {
          "output_type": "stream",
          "name": "stdout",
          "text": [
            "Enter any number7\n",
            "Enter any number8\n",
            "61.559895833333336\n"
          ]
        }
      ]
    },
    {
      "cell_type": "markdown",
      "metadata": {
        "id": "aN9YlSHgqCzY"
      },
      "source": [
        "**\n",
        "Write a menu driven program to do the following task:\n",
        "i. Input a string\n",
        "ii. Find length of string\n",
        "iii. Reverse a string\n",
        "iv. Check whether palindrome\n",
        "v. exit\n",
        "**\n",
        "\n"
      ]
    },
    {
      "cell_type": "code",
      "metadata": {
        "id": "-rt9u-ffVW9k",
        "colab": {
          "base_uri": "https://localhost:8080/"
        },
        "outputId": "dd6f5c44-e787-4cd7-985e-04f193f55b74"
      },
      "source": [
        "ms=\"y\"\n",
        "while ms!=\"n\":\n",
        "  s=input(\"Enter String\")\n",
        "  print(\"What do you want to do with this?\")\n",
        "  print(\"1.Find length of string\")\n",
        "  print(\"2.Reverse a string\")\n",
        "  print(\"3.Check whether palindrome\")\n",
        "  ms=int(input(\"What do you want to do ?\"))\n",
        "  count=0\n",
        "  for i in s:\n",
        "    count+=1\n",
        "    print (\"The original string  is : \",s)\n",
        "    reverse_String = \"\"\n",
        "    while count > 0:\n",
        "        reverse_String += s[ count - 1 ]\n",
        "        count = count - 1\n",
        "    print (\"The reversed string is : \",reverse_String)\n",
        "  elif m==3:\n",
        "    reverse_String = \"\"\n",
        "    while count > 0:\n",
        "        reverse_String += s[ count - 1 ]\n",
        "        count = count - 1\n",
        "    if reverse_String==s:\n",
        "      print(\"It is a Palindrome\")\n",
        "    else:\n",
        "      print(\"It is not a Palindrome\")\n",
        "  ms=input(\"Do you want top continue? y/n\")"
      ],
      "execution_count": null,
      "outputs": [
        {
          "name": "stdout",
          "output_type": "stream",
          "text": [
            "Enter String56\n",
            "What do you want to do with this?\n",
            "1.Find length of string\n",
            "2.Reverse a string\n",
            "3.Check whether palindrome\n",
            "What do you want to do ?1\n",
            "length is 2\n",
            "Do you want top continue? y/nn\n"
          ]
        }
      ]
    },
    {
      "cell_type": "markdown",
      "metadata": {
        "id": "SKiAd47nqNmx"
      },
      "source": [
        "**Write a menu driven program to do the following task:\n",
        "i. Input a string\n",
        "ii. Count the number of words\n",
        "iii. Count the number of vowels\n",
        "iv. Count the number of spaces\n",
        "v. Count the number of digits\n",
        "vi. Count the number of alphabets\n",
        "vii. Exit**"
      ]
    },
    {
      "cell_type": "code",
      "metadata": {
        "colab": {
          "base_uri": "https://localhost:8080/"
        },
        "id": "WO3e0VRwwK2M",
        "outputId": "a2dfe933-b505-421f-b609-5d2147c4dbbf"
      },
      "source": [
        "ms=\"y\"\n",
        "while ms!=\"n\":\n",
        "  s=input(\"Enter String\")\n",
        "  m=int(input(\"What do you want to do ?\"))\n",
        "  cw=0\n",
        "  cv=0\n",
        "  cs=0\n",
        "  cd=0\n",
        "  c=0\n",
        "  if m==1:\n",
        "    for i in s:\n",
        "      if i==\" \":\n",
        "        cw+=1\n",
        "    print(cw+1)\n",
        "  elif m==2:\n",
        "    for i in s:\n",
        "      if i in [\"a\", \"e\", \"i\", \"o\", \"u\"]:\n",
        "        cv+=1\n",
        "    print(cv)\n",
        "  elif m==3:\n",
        "    for i in s:\n",
        "      if i==\" \":\n",
        "        cs+=1\n",
        "    print(cs)\n",
        "  elif m==4:\n",
        "    for i in s:\n",
        "      if i>\"0\" and i<\"9\":\n",
        "        cd+=1\n",
        "    print(cd)\n",
        "  elif m==5:\n",
        "    for i in s:\n",
        "      if i>\"0\" and i<\"9\":\n",
        "        cd+=1\n",
        "    for i in s:\n",
        "      if i==\" \":\n",
        "        cs+=1\n",
        "    for i in s:\n",
        "        c+=1\n",
        "        ca=(c-cs)-cd\n",
        "    print(ca)\n",
        "  ms=input(\"Do you want top continue? Y/N\")"
      ],
      "execution_count": null,
      "outputs": [
        {
          "name": "stdout",
          "output_type": "stream",
          "text": [
            "Enter String67\n",
            "What do you want to do ?1\n",
            "1\n",
            "Do you want top continue? Y/Nn\n"
          ]
        }
      ]
    },
    {
      "cell_type": "markdown",
      "metadata": {
        "id": "lFKldKcRqR83"
      },
      "source": [
        "**To print the given pattern from the string entered by the user:\n",
        "I\n",
        "IN\n",
        "IND\n",
        "INDI\n",
        "INDIA**"
      ]
    },
    {
      "cell_type": "code",
      "metadata": {
        "colab": {
          "base_uri": "https://localhost:8080/"
        },
        "id": "U3OW5nC5fYTO",
        "outputId": "3c15a25e-f147-4854-a1a9-7a14a1761486"
      },
      "source": [
        "s=input(\"Enter String\")\n",
        "for i in range(0, len(s)+1):\n",
        "  for j in range(0, i):\n",
        "    print(s[j], end=\"\")\n",
        "  print()"
      ],
      "execution_count": null,
      "outputs": [
        {
          "output_type": "stream",
          "name": "stdout",
          "text": [
            "Enter Stringindia\n",
            "\n",
            "i\n",
            "in\n",
            "ind\n",
            "indi\n",
            "india\n"
          ]
        }
      ]
    },
    {
      "cell_type": "markdown",
      "metadata": {
        "id": "hrB7wRKCqXiB"
      },
      "source": [
        "**To find the no of times the substring occurs in a string entered\n",
        "by the user.\n",
        "**"
      ]
    },
    {
      "cell_type": "code",
      "metadata": {
        "colab": {
          "base_uri": "https://localhost:8080/"
        },
        "id": "llzogFwxhOE2",
        "outputId": "9dd3cc82-411a-4ad6-c1c3-5debdd9dbe62"
      },
      "source": [
        "s=input(\"Enter any string: \")\n",
        "x=input(\"Enter the substring: \")\n",
        "c=0\n",
        "for i in range(0,len(s)+1):\n",
        "  if s[i:i+len(x)]==x:\n",
        "    c+=1\n",
        "print(c)"
      ],
      "execution_count": null,
      "outputs": [
        {
          "output_type": "stream",
          "name": "stdout",
          "text": [
            "Enter any string: heeellloooo\n",
            "Enter the substring: o\n",
            "4\n"
          ]
        }
      ]
    },
    {
      "cell_type": "markdown",
      "metadata": {
        "id": "d5knW-ZhqhYS"
      },
      "source": [
        "**To count the number of independent “the” or “these” words in\n",
        "a string.**"
      ]
    },
    {
      "cell_type": "code",
      "metadata": {
        "id": "Dy7jKiJ5jPKf"
      },
      "source": [
        "s=input(\"Enter any string: \")\n",
        "the=0\n",
        "these=0\n",
        "s+=\" \"\n",
        "for i in range(0,len(s)+1):\n",
        "  if s[i:i+4]==\"the \":\n",
        "    the+=1\n",
        "  elif s[i:i+6]==\"these \":\n",
        "    these+=1\n",
        "print(\"the: \", the)\n",
        "print(\"these: \", these)"
      ],
      "execution_count": null,
      "outputs": []
    },
    {
      "cell_type": "markdown",
      "metadata": {
        "id": "zX-nbYqHr3E_"
      },
      "source": [
        "# ***`THE END`***"
      ]
    }
  ]
}