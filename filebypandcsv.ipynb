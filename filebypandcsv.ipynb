{
  "nbformat": 4,
  "nbformat_minor": 0,
  "metadata": {
    "colab": {
      "private_outputs": true,
      "provenance": [],
      "mount_file_id": "1SdZCB8-_2aazNfz9lAy80pel7B20Bi1R",
      "authorship_tag": "ABX9TyMs5QW61AQ+KVuSTSe/nayM",
      "include_colab_link": true
    },
    "kernelspec": {
      "name": "python3",
      "display_name": "Python 3"
    },
    "language_info": {
      "name": "python"
    }
  },
  "cells": [
    {
      "cell_type": "markdown",
      "metadata": {
        "id": "view-in-github",
        "colab_type": "text"
      },
      "source": [
        "<a href=\"https://colab.research.google.com/github/COBR-A/prabhat/blob/main/filebypandcsv.ipynb\" target=\"_parent\"><img src=\"https://colab.research.google.com/assets/colab-badge.svg\" alt=\"Open In Colab\"/></a>"
      ]
    },
    {
      "cell_type": "code",
      "source": [
        "\n",
        "import csv\n",
        "import pandas as pd"
      ],
      "metadata": {
        "id": "0cAqkuUZ6d_l"
      },
      "execution_count": null,
      "outputs": []
    },
    {
      "cell_type": "code",
      "source": [
        "from google.colab import drive\n",
        "drive.mount('/content/drive')"
      ],
      "metadata": {
        "id": "wdwmaFjh6eZp"
      },
      "execution_count": null,
      "outputs": []
    },
    {
      "cell_type": "code",
      "source": [
        "book_path='/content/drive/MyDrive/books_data.csv'"
      ],
      "metadata": {
        "id": "TdBIlFs9G1Cr"
      },
      "execution_count": null,
      "outputs": []
    },
    {
      "cell_type": "code",
      "source": [
        "def load_books_data(book_path):\n",
        "  try:\n",
        "    df = pd.read_csv(book_path)\n",
        "    return df\n",
        "  except Exception:\n",
        "    print(f\"Error\")\n",
        "    return None"
      ],
      "metadata": {
        "id": "wz9KKgsW74dr"
      },
      "execution_count": null,
      "outputs": []
    },
    {
      "cell_type": "code",
      "source": [
        "user_details = {\n",
        "    \"prabhat\": \"3456789\",\n",
        "    \"user1\": \"123456\",\n",
        "}\n",
        "registered_users = list(user_details.keys())"
      ],
      "metadata": {
        "id": "ZGYphNm5SWrr"
      },
      "execution_count": null,
      "outputs": []
    },
    {
      "cell_type": "code",
      "source": [
        "def login():\n",
        "    while True:\n",
        "        username = input(\"Enter username: \")\n",
        "        password = input(\"Enter password: \")\n",
        "\n",
        "        if username in user_details and user_details[username] == password:\n",
        "            print(f\"login successful! welcome, {username}.\")\n",
        "            return username\n",
        "        else:\n",
        "            print(\"invalid username or password. please try again.\")"
      ],
      "metadata": {
        "id": "fzJ4Da2mfnDZ"
      },
      "execution_count": null,
      "outputs": []
    },
    {
      "cell_type": "code",
      "source": [
        "def register_user():\n",
        "    while True:\n",
        "        new_username = input(\"enter new username: \")\n",
        "\n",
        "        if new_username in user_details:\n",
        "            print(\"username already exists. please choose a different username.\")\n",
        "        else:\n",
        "            new_password = input(\"enter password for the new user: \")\n",
        "            user_details[new_username] = new_password\n",
        "            registered_users.append(new_username)\n",
        "            print(f\"user '{new_username}' registered successfully!\")\n",
        "            return new_username"
      ],
      "metadata": {
        "id": "6Wcbjjhrfp4V"
      },
      "execution_count": null,
      "outputs": []
    },
    {
      "cell_type": "code",
      "source": [
        "def display_books_data(book_path):\n",
        "    try:\n",
        "        df = pd.read_csv(book_path)\n",
        "        print(\"Content of books_data.csv:\")\n",
        "        print(df)\n",
        "    except FileNotFoundError:\n",
        "        print(\"No books data available.\")"
      ],
      "metadata": {
        "id": "Ai4dXMKl_Pf9"
      },
      "execution_count": null,
      "outputs": []
    },
    {
      "cell_type": "code",
      "source": [
        "import numpy as np\n"
      ],
      "metadata": {
        "id": "Es7ArNHNKmtF"
      },
      "execution_count": null,
      "outputs": []
    },
    {
      "cell_type": "code",
      "source": [
        "def search_books_by_author(book_path, author_name):\n",
        "    try:\n",
        "        df = pd.read_csv(book_path)\n",
        "        results = df[df['author'].str.contains(author_name, case=False)]\n",
        "\n",
        "        if results.empty:\n",
        "            print(f\"No books found by author '{author_name}'.\")\n",
        "        else:\n",
        "            print(f\"Books by '{author_name}':\")\n",
        "            print(results)\n",
        "    except FileNotFoundError:\n",
        "        print(\"No books data available.\")"
      ],
      "metadata": {
        "id": "AI85Td0IHG7D"
      },
      "execution_count": null,
      "outputs": []
    },
    {
      "cell_type": "code",
      "source": [
        "def add_new_book(book_path):\n",
        "    try:\n",
        "        with open(book_path, \"a\", newline=\"\") as f:\n",
        "            writer = csv.writer(f)\n",
        "            book_id = input(\"Enter book ID: \")\n",
        "            title = input(\"Enter book title: \")\n",
        "            author = input(\"Enter book author: \")\n",
        "            price = float(input(\"Enter book price: \"))\n",
        "            writer.writerow([book_id, title, author, price, 'available'])\n",
        "        print(\"Book details added successfully.\")\n",
        "    except Exception as e:\n",
        "        print(f\"Error: {e}\")"
      ],
      "metadata": {
        "id": "jPfuGPFMQTi2"
      },
      "execution_count": null,
      "outputs": []
    },
    {
      "cell_type": "code",
      "source": [
        "def delete_book_by_id(file_path, book_id):\n",
        "    try:\n",
        "        df = pd.read_csv(file_path)\n",
        "        df = df[df['id'] != book_id]\n",
        "        df.to_csv(file_path, index=False)\n",
        "        print(f\"Book with ID '{book_id}' deleted successfully.\")\n",
        "    except FileNotFoundError:\n",
        "        print(\"No books data available.\")\n",
        "    except Exception as e:\n",
        "        print(f\"Failed to delete book with ID '{book_id}': {e}\")"
      ],
      "metadata": {
        "id": "IkN8-Q39JAZ5"
      },
      "execution_count": null,
      "outputs": []
    },
    {
      "cell_type": "code",
      "source": [
        "def issue_book(book_path):\n",
        "    try:\n",
        "        book_id = input(\"Enter the book ID you want to issue: \")\n",
        "        df = pd.read_csv(book_path)\n",
        "        df.loc[df['id'] == book_id, 'status'] = 'issued'\n",
        "        df.to_csv(book_path, index=False)\n",
        "        print(f\"Book with ID {book_id} has been issued.\")\n",
        "    except FileNotFoundError:\n",
        "        print(\"No books data available.\")"
      ],
      "metadata": {
        "id": "LahwHN90rhbD"
      },
      "execution_count": null,
      "outputs": []
    },
    {
      "cell_type": "code",
      "source": [
        "def return_book(book_path):\n",
        "    try:\n",
        "        book_id = input(\"Enter the book ID to return: \")\n",
        "        df = pd.read_csv(book_path)\n",
        "        df.loc[df['id'] == book_id, 'status'] = 'available'\n",
        "        df.to_csv(book_path, index=False)\n",
        "        print(f\"Book with ID {book_id} has been returned.\")\n",
        "    except FileNotFoundError:\n",
        "        print(\"No books data available.\")"
      ],
      "metadata": {
        "id": "B-6b28zmrjMc"
      },
      "execution_count": null,
      "outputs": []
    },
    {
      "cell_type": "code",
      "source": [
        "def logout(username):\n",
        "    print(f\"logging out {username}...\")\n",
        "    print(\"logout successful\")"
      ],
      "metadata": {
        "id": "xlmma_LgSdKS"
      },
      "execution_count": null,
      "outputs": []
    },
    {
      "cell_type": "code",
      "source": [
        "def main_menu():\n",
        "    current_user = None\n",
        "\n",
        "    while True:\n",
        "        print(\"\\n********** E-Library Management System **********\")\n",
        "        try:\n",
        "            if not current_user:\n",
        "                print(\"1. Login\")\n",
        "                print(\"2. Register a new user\")\n",
        "            else:\n",
        "                print(f\"logged in as: {current_user}\")\n",
        "                print(\"3. display all books\")\n",
        "                print(\"4. list books by author (title and price)\")\n",
        "                print(\"5. add a book\")\n",
        "                print(\"6. issue a book\")\n",
        "                print(\"7. return a book\")\n",
        "                print(\"8. Delete a book by ID\")\n",
        "                print(\"9. logout\")\n",
        "\n",
        "            choice = input(\"enter your choice: \")\n",
        "\n",
        "            if not current_user:\n",
        "                if choice == '1':\n",
        "                    current_user = login()\n",
        "                elif choice == '2':\n",
        "                    current_user = register_user()\n",
        "                else:\n",
        "                    print(\"Invalid choice. Please try again.\")\n",
        "            else:\n",
        "                if choice == '3':\n",
        "                    display_books_data(book_path)\n",
        "                elif choice == '4':\n",
        "                    author_name = input(\"Enter the author's name: \")\n",
        "                    search_books_by_author(book_path, author_name)\n",
        "                elif choice == '5':\n",
        "                    add_new_book(book_path)\n",
        "                elif choice == '6':\n",
        "                    issue_book(book_path)\n",
        "                elif choice == '7':\n",
        "                    return_book(book_path)\n",
        "                elif choice == '8':\n",
        "                    book_id = input(\"Enter the book ID to delete: \")\n",
        "                elif choice == '9':\n",
        "                    print(f\"Logging out {current_user}...\")\n",
        "                    current_user = None\n",
        "                else:\n",
        "                    print(\"Invalid choice. Please try again.\")\n",
        "        except Exception as e:\n",
        "            print(f\"An error occurred: {e}\")\n",
        "\n",
        "main_menu()"
      ],
      "metadata": {
        "id": "3fyRiVK8hEQ7"
      },
      "execution_count": null,
      "outputs": []
    },
    {
      "cell_type": "code",
      "source": [
        "\n"
      ],
      "metadata": {
        "id": "kcOqhhethEyR"
      },
      "execution_count": null,
      "outputs": []
    }
  ]
}