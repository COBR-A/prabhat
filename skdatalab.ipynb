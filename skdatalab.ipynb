{
 "cells": [
  {
   "cell_type": "code",
   "execution_count": null,
   "metadata": {},
   "outputs": [],
   "source": [
    "a=\"5\" #type error\n",
    "b=6\n",
    "c=a+b\n",
    "print(c)"
   ]
  },
  {
   "cell_type": "code",
   "execution_count": null,
   "metadata": {},
   "outputs": [],
   "source": [
    "a=\"5\"\n",
    "b=\"4\"\n",
    "c=a+b\n",
    "print(c)"
   ]
  },
  {
   "cell_type": "code",
   "execution_count": null,
   "metadata": {},
   "outputs": [],
   "source": [
    "a=\"hello\"\n",
    "b=int(a)#value error\n",
    "print(b)"
   ]
  },
  {
   "cell_type": "code",
   "execution_count": 3,
   "metadata": {},
   "outputs": [
    {
     "name": "stdout",
     "output_type": "stream",
     "text": [
      "20.2\n"
     ]
    }
   ],
   "source": [
    "a=10\n",
    "b=10.2\n",
    "print(a+b)"
   ]
  },
  {
   "cell_type": "markdown",
   "metadata": {},
   "source": [
    "wap to create a bio data of ur self"
   ]
  },
  {
   "cell_type": "code",
   "execution_count": null,
   "metadata": {},
   "outputs": [],
   "source": [
    "ne=input(\"enter ur name\")\n",
    "age=int(input(\"enter ur age\"))\n",
    "sapid=input(\"enter ur sap id\")\n",
    "ad=input(\"enter ur adress with pin code\")\n",
    "dob=input(\"enter ur date of birth\")\n",
    "\n",
    "print(ne ,age,ad,sapid,dob)\n",
    "print(type(sapid))\n",
    "sapid=int(sapid)\n",
    "print(sapid)\n",
    "print(type(sapid))"
   ]
  },
  {
   "cell_type": "code",
   "execution_count": 8,
   "metadata": {},
   "outputs": [
    {
     "name": "stdout",
     "output_type": "stream",
     "text": [
      "python for begginer\n",
      "1\n",
      "python 4 begginer\n",
      "python 4 begginer\n",
      "True\n"
     ]
    }
   ],
   "source": [
    "str1=\"python for begginer\"\n",
    "print(str1)\n",
    "print(str1.find('y'))\n",
    "print(str1.replace(' ','4'))\n",
    "print(str1.replace(' ',\"4\"))\n",
    "print('python'in str1)"
   ]
  },
  {
   "cell_type": "markdown",
   "metadata": {},
   "source": [
    "wap to do various proram in string (hw)"
   ]
  },
  {
   "cell_type": "code",
   "execution_count": 2,
   "metadata": {},
   "outputs": [
    {
     "data": {
      "text/plain": [
       "0"
      ]
     },
     "execution_count": 2,
     "metadata": {},
     "output_type": "execute_result"
    }
   ],
   "source": []
  },
  {
   "cell_type": "code",
   "execution_count": null,
   "metadata": {},
   "outputs": [],
   "source": [
    "num = int(input('enter a number: '))\n",
    "fact = 1\n",
    "if num < 0:\n",
    "  print(\"factorial doesn't exist for negative numbers\")\n",
    "elif num == 0:\n",
    "  print(\"factorial of 0 is 1\")\n",
    "else:\n",
    "  for i in range(1, num+1):\n",
    "    fact = fact * i\n",
    "  print(\"the factorial of the given {num} is \" + str(fact))"
   ]
  },
  {
   "cell_type": "markdown",
   "metadata": {},
   "source": []
  },
  {
   "cell_type": "code",
   "execution_count": null,
   "metadata": {},
   "outputs": [],
   "source": [
    "def fib(n):\n",
    "    fibi = [0, 1]\n",
    "    while len(fibi) < n:\n",
    "        fibi.append(fibi[-1] + fibi[-2])\n",
    "    return fibi\n",
    "result = fib(10)\n",
    "print(result)"
   ]
  },
  {
   "cell_type": "markdown",
   "metadata": {},
   "source": []
  },
  {
   "cell_type": "code",
   "execution_count": 13,
   "metadata": {},
   "outputs": [
    {
     "name": "stdout",
     "output_type": "stream",
     "text": [
      "[0, 2, 4, 6, 8, 10, 12, 14, 16, 18, 20, 22, 24, 26, 28, 30, 32, 34, 36, 38]\n",
      "[0, 2, 4, 6, 8, 10, 12, 14, 16, 18, 20, 22, 24, 26, 28, 30, 32, 34, 36, 38]\n"
     ]
    }
   ],
   "source": [
    "cu=[]\n",
    "for i in range(40):\n",
    "    if i%2==0:\n",
    "        cu.append(i)\n",
    "print(cu)\n",
    "\n",
    "l2 = [i for i in range(40) if i % 2 == 0]\n",
    "print(l2)\n"
   ]
  },
  {
   "cell_type": "code",
   "execution_count": 15,
   "metadata": {},
   "outputs": [
    {
     "name": "stdout",
     "output_type": "stream",
     "text": [
      "dict[roll no]=  161\n",
      "dict[name]=  arnav\n"
     ]
    }
   ],
   "source": [
    "Dict = {'roll_no': '161', \"name\": \"arnav\", \"course\":\"bca\"}\n",
    "print (\"dict[roll no]= \",Dict['roll_no']) \n",
    "print (\"dict[name]= \",Dict['name'])"
   ]
  },
  {
   "cell_type": "code",
   "execution_count": null,
   "metadata": {},
   "outputs": [],
   "source": [
    "def add(x, y):\n",
    "    return x + y\n",
    "\n",
    "def subtract(x, y):\n",
    "    return x - y\n",
    "\n",
    "def multiply(x, y):\n",
    "    return x * y\n",
    "\n",
    "def divide(x, y):\n",
    "    if y != 0:\n",
    "        return x / y\n",
    "    else:\n",
    "        return \"Error: Cannot divide by zero\"\n",
    "def calculator():\n",
    "    print(\"Simple Calculator\")\n",
    "    print(\"1. Addition\")\n",
    "    print(\"2. Subtraction\")\n",
    "    print(\"3. Multiplication\")\n",
    "    print(\"4. Division\")\n",
    "\n",
    "    choice = input(\"Enter choice (1/2/3/4): \")\n",
    "\n",
    "    num1 = float(input(\"Enter first number: \"))\n",
    "    num2 = float(input(\"Enter second number: \"))\n",
    "\n",
    "    if choice == '1':\n",
    "        result = add(num1, num2)\n",
    "        print(\"Result: {:.2f}\".format(result))\n",
    "    elif choice == '2':\n",
    "        result = subtract(num1, num2)\n",
    "        print(\"Result: {:.2f}\".format(result))\n",
    "    elif choice == '3':\n",
    "        result = multiply(num1, num2)\n",
    "        print(\"Result: {:.2f}\".format(result))\n",
    "    elif choice == '4':\n",
    "        result = divide(num1, num2)\n",
    "        print(\"Result:\", result)\n",
    "    else:\n",
    "        print(\"Invalid input\")\n",
    "calculator()\n"
   ]
  },
  {
   "cell_type": "code",
   "execution_count": null,
   "metadata": {},
   "outputs": [],
   "source": [
    "def cal():\n",
    "    print(\"Simple Calculator\")\n",
    "    result = 0\n",
    "    if operator == '+':\n",
    "        result = num1 + num2\n",
    "    elif operator == '-':\n",
    "        result = num1 - num2\n",
    "    elif operator == '*':\n",
    "        result = num1 * num2\n",
    "    elif operator == '/':\n",
    "        if num2 != 0:\n",
    "            result = num1 / num2\n",
    "        else:\n",
    "            print(\"Error: Cannot divide by zero\")\n",
    "            return\n",
    "    else:\n",
    "        print(\"Invalid operator\")\n",
    "        return\n",
    "\n",
    "    print(\"Result:\", result)\n",
    "num1 = float(input(\"Enter first number: \"))\n",
    "operator = input(\"Enter operator (+, -, *, /): \")\n",
    "num2 = float(input(\"Enter second number: \"))\n",
    "\n",
    "cal()\n"
   ]
  },
  {
   "cell_type": "code",
   "execution_count": null,
   "metadata": {},
   "outputs": [],
   "source": [
    "def calculator():\n",
    "    print(\"Simple Calculator\")\n",
    "\n",
    "    expression = input(\"Enter expression (e.g., 2 + 3): \")\n",
    "    result = eval(expression)\n",
    "    print(\"Result:\", result)\n",
    "\n",
    "calculator()\n"
   ]
  },
  {
   "cell_type": "markdown",
   "metadata": {},
   "source": []
  },
  {
   "cell_type": "code",
   "execution_count": 1,
   "metadata": {},
   "outputs": [
    {
     "name": "stdout",
     "output_type": "stream",
     "text": [
      "Number of words in the sentence: 2\n"
     ]
    }
   ],
   "source": [
    "def count_words(sen):\n",
    "    wrds = sen.split()\n",
    "    return len(wrds)\n",
    "\n",
    "# Example usage:\n",
    "sen = input(\"Enter a sentence: \")\n",
    "word_count = count_words(sen)\n",
    "print(f\"Number of words in the sentence: {word_count}\")\n",
    "\n",
    "\n"
   ]
  },
  {
   "cell_type": "code",
   "execution_count": 8,
   "metadata": {},
   "outputs": [
    {
     "name": "stdout",
     "output_type": "stream",
     "text": [
      "Number of characters in:\n",
      "thi is a sentence\n",
      "thi = 3\n",
      "is = 2\n",
      "a = 1\n",
      "sentence = 8\n"
     ]
    }
   ],
   "source": [
    "def cont(str1):\n",
    "    wr = str1.split()\n",
    "    co = {}\n",
    "    for word in wr:\n",
    "        co[word] = len(word)\n",
    "    return co\n",
    "str1 = input(\"Enter a sentence: \")\n",
    "result = cont(str1)\n",
    "print(\"Number of characters in:\")\n",
    "print(str1)\n",
    "for word, count in result.items():\n",
    "    print(f\"{word} = {count}\")"
   ]
  },
  {
   "cell_type": "code",
   "execution_count": 6,
   "metadata": {},
   "outputs": [
    {
     "name": "stdout",
     "output_type": "stream",
     "text": [
      "Frequency of each word:\n",
      "this = 2\n",
      "is = 2\n",
      "sentencee = 1\n"
     ]
    }
   ],
   "source": [
    "def cont(str1):\n",
    "    wr = str1.split()\n",
    "    co = {}\n",
    "    for word in wr:\n",
    "        if word in co:\n",
    "            co[word] += 1\n",
    "        else:\n",
    "            co[word] = 1\n",
    "    return co\n",
    "str1 = input(\"Enter a sentence: \")\n",
    "result = cont(str1)\n",
    "print(\"Frequency of each word:\")\n",
    "for word, count in result.items():\n",
    "    print(f\"{word} = {count}\")"
   ]
  },
  {
   "cell_type": "code",
   "execution_count": 10,
   "metadata": {},
   "outputs": [
    {
     "name": "stdout",
     "output_type": "stream",
     "text": [
      "[0, 1, 1, 2, 3, 5, 8, 13, 21, 34, 55, 89, 144, 233]\n"
     ]
    }
   ],
   "source": [
    "def fib(n):\n",
    "    fibs = [0, 1] \n",
    "    a = 0\n",
    "    b = 1\n",
    "    for i in range(2, n + 1):\n",
    "        c = a + b\n",
    "        a = b\n",
    "        b = c\n",
    "        fibs.append(c) \n",
    "    return fibs\n",
    "fibs = fib(13)\n",
    "print(fibs)\n"
   ]
  },
  {
   "cell_type": "code",
   "execution_count": 9,
   "metadata": {},
   "outputs": [
    {
     "name": "stdout",
     "output_type": "stream",
     "text": [
      "[0, 1, 1, 2, 3, 5, 8, 13, 21, 34, 55, 89, 144]\n"
     ]
    }
   ],
   "source": [
    "def fib(n):\n",
    "    if n <= 1:\n",
    "        return n\n",
    "    else:\n",
    "        return fib(n - 1) + fib(n - 2)\n",
    "def generate_fib_sequence(n):\n",
    "    fibs = []\n",
    "    for i in range(n):\n",
    "        fibs.append(fib(i))\n",
    "    return fibs\n",
    "fibs_recursive = generate_fib_sequence(13)\n",
    "print(fibs_recursive)\n"
   ]
  },
  {
   "cell_type": "code",
   "execution_count": null,
   "metadata": {},
   "outputs": [],
   "source": [
    "def recursive_fib(n):\n",
    "    if n <= 1:\n",
    "        return n\n",
    "    else:\n",
    "        return recursive_fib(n - 1) + recursive_fib(n - 2)\n",
    "n = 13\n",
    "fibs_recursive = [recursive_fib(i) for i in range(n + 1)]\n",
    "print(fibs_recursive)\n"
   ]
  },
  {
   "cell_type": "code",
   "execution_count": null,
   "metadata": {},
   "outputs": [],
   "source": [
    "def prim(n):\n",
    "    def is_prime(num):\n",
    "        if num < 2:\n",
    "            return False\n",
    "        for i in range(2, int(num**0.5) + 1):\n",
    "            if num % i == 0:\n",
    "                return False\n",
    "        return True\n",
    "    i = 2\n",
    "    while i <= n:\n",
    "        if is_prime(i):\n",
    "            print(i)\n",
    "        i += 1\n",
    "prim(100)"
   ]
  },
  {
   "cell_type": "code",
   "execution_count": 18,
   "metadata": {},
   "outputs": [
    {
     "ename": "NameError",
     "evalue": "name 'a' is not defined",
     "output_type": "error",
     "traceback": [
      "\u001b[0;31m---------------------------------------------------------------------------\u001b[0m",
      "\u001b[0;31mNameError\u001b[0m                                 Traceback (most recent call last)",
      "Cell \u001b[0;32mIn[18], line 9\u001b[0m\n\u001b[1;32m      5\u001b[0m     \u001b[38;5;28mprint\u001b[39m(a)\n\u001b[1;32m      8\u001b[0m c(\u001b[38;5;241m7\u001b[39m)   \n\u001b[0;32m----> 9\u001b[0m \u001b[38;5;28mprint\u001b[39m(\u001b[43ma\u001b[49m) \n",
      "\u001b[0;31mNameError\u001b[0m: name 'a' is not defined"
     ]
    }
   ],
   "source": [
    "def c(n):\n",
    "    a=n**3\n",
    "    f=lambda h: h ** 7\n",
    "    return f(a)\n",
    "    print(a)\n",
    "c(7)   "
   ]
  },
  {
   "cell_type": "code",
   "execution_count": 15,
   "metadata": {},
   "outputs": [
    {
     "name": "stdout",
     "output_type": "stream",
     "text": [
      "2097152\n"
     ]
    }
   ],
   "source": [
    "def c(n):\n",
    "    a = n ** 3\n",
    "    f = lambda h: h ** 7\n",
    "    return f(a)\n",
    "result = c(2)\n",
    "print(result)  "
   ]
  },
  {
   "cell_type": "markdown",
   "metadata": {},
   "source": [
    "filter function"
   ]
  },
  {
   "cell_type": "markdown",
   "metadata": {},
   "source": [
    "map function()"
   ]
  },
  {
   "cell_type": "code",
   "execution_count": 6,
   "metadata": {},
   "outputs": [
    {
     "name": "stdout",
     "output_type": "stream",
     "text": [
      "[1, 3, 5, 13, 11]\n",
      "[2, 4, 6, 8, 10]\n",
      "Squared numbers: [1, 4, 9, 16, 25, 36, 64, 169, 121, 100]\n"
     ]
    }
   ],
   "source": [
    "lst=list(input)\n",
    "lste=list(filter(lambda n: n%2!=0, lst))\n",
    "print(lste)\n",
    "lste=list(filter(lambda n: n%2==0, lst))\n",
    "print(lste)\n",
    "lst_squared = list(map(lambda n: n ** 2, lst))\n",
    "print(\"Squared numbers:\", lst_squared)"
   ]
  },
  {
   "cell_type": "code",
   "execution_count": 17,
   "metadata": {},
   "outputs": [
    {
     "name": "stdout",
     "output_type": "stream",
     "text": [
      "Length of Odd numbers: 5\n",
      "Odd numbers: [11, 33, 57, 69, 79]\n",
      "Length of Even numbers: 6\n",
      "Even numbers: [22, 44, 34, 54, 66, 78]\n"
     ]
    }
   ],
   "source": [
    "numbers_input = input(\"Enter numbers separated by spaces: \").split()\n",
    "lst = [int(num) for num in numbers_input]\n",
    "\n",
    "lsto = [n for n in lst if n % 2 != 0]\n",
    "print(\"Length of Odd numbers:\", len(lsto))\n",
    "print(\"Odd numbers:\", lsto)\n",
    "\n",
    "lste = [n for n in lst if n % 2 == 0]\n",
    "print(\"Length of Even numbers:\", len(lste))\n",
    "print(\"Even numbers:\", lste)\n"
   ]
  },
  {
   "cell_type": "code",
   "execution_count": 14,
   "metadata": {},
   "outputs": [
    {
     "name": "stdout",
     "output_type": "stream",
     "text": [
      " len of Odd numbers: 7\n",
      "Odd numbers: [11, 3, 5, 23, 33, 55, 57]\n",
      " len of even numbers: 6\n",
      "Even numbers: [2, 4, 6, 44, 34, 66]\n"
     ]
    }
   ],
   "source": [
    "lst = list(map(int, input(\"Enter numbers separated by spaces: \").split()))\n",
    "\n",
    "lsto = list(filter(lambda n: n % 2 != 0, lst))\n",
    "print(\" len of Odd numbers:\",len(lsto))\n",
    "print(\"Odd numbers:\", lsto)\n",
    "\n",
    "lste = list(filter(lambda n: n % 2 == 0, lst))\n",
    "print(\" len of even numbers:\",len(lste))\n",
    "print(\"Even numbers:\", lste)\n"
   ]
  },
  {
   "cell_type": "code",
   "execution_count": 18,
   "metadata": {},
   "outputs": [],
   "source": [
    "lst = list(input(\"Enter numbers separated by spaces: \"))"
   ]
  }
 ],
 "metadata": {
  "kernelspec": {
   "display_name": "Python 3",
   "language": "python",
   "name": "python3"
  },
  "language_info": {
   "codemirror_mode": {
    "name": "ipython",
    "version": 3
   },
   "file_extension": ".py",
   "mimetype": "text/x-python",
   "name": "python",
   "nbconvert_exporter": "python",
   "pygments_lexer": "ipython3",
   "version": "3.11.7"
  },
  "orig_nbformat": 4
 },
 "nbformat": 4,
 "nbformat_minor": 2
}
